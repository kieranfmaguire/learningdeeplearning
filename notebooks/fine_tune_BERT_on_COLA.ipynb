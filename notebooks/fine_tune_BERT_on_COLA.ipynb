{
  "nbformat": 4,
  "nbformat_minor": 0,
  "metadata": {
    "colab": {
      "name": "fine_tune_BERT_on_COLA.ipynb",
      "provenance": [],
      "collapsed_sections": [],
      "toc_visible": true,
      "authorship_tag": "ABX9TyNuohIO+Ak8rHT4NplooxU4",
      "include_colab_link": true
    },
    "kernelspec": {
      "name": "python3",
      "display_name": "Python 3"
    },
    "accelerator": "GPU"
  },
  "cells": [
    {
      "cell_type": "markdown",
      "metadata": {
        "id": "view-in-github",
        "colab_type": "text"
      },
      "source": [
        "<a href=\"https://colab.research.google.com/github/kieranfmaguire/learningdeeplearning/blob/main/notebooks/fine_tune_BERT_on_COLA.ipynb\" target=\"_parent\"><img src=\"https://colab.research.google.com/assets/colab-badge.svg\" alt=\"Open In Colab\"/></a>"
      ]
    },
    {
      "cell_type": "markdown",
      "metadata": {
        "id": "hVySWPVhs_Mf"
      },
      "source": [
        "# Finetune BERT model on the Corpus of Linguistic Acceptability (COLA) dataset\n",
        "---\n",
        "This is a small dataset with only around 10,000 examples. Each example is a single sentence, and a label indicating whether that sentence is grammatically correct or not.\n",
        "\n",
        "This is one of the many tasks that make up the General Language Understanding Evaluation (GLUE) benchmark often used for assessing the performance of NLP models.\n",
        "\n",
        "## Plan\n",
        "---\n",
        "\n",
        "According to the BERT paper [here](https://arxiv.org/pdf/1810.04805.pdf), to achieve state of the art scores on almost all of the GLUE tasks, they simply fine tuned the model for 3 epochs (scanning a grid of learning rates and selecting the best). This is feasible even on a free GPU on colab (eg here).\n",
        "\n",
        "To fine tune the model for classification tasks, they add a single dense layer to the end of the model. The input to the classification layer is the embedding corresponding to the special input token `[CLS]`, which can be found at the first position of the sequence outputs of the model. The authors also claim that finetuning just the classification layer still achieved very good results at a lower computational cost. Therefore I will try both methods here. \n",
        "\n",
        "To save time, I will only use a single learning rate. `1e-3` for the version where BERT weights are frozen, and `1e-5` when training jointly.\n",
        "\n",
        "To that end, I will do the following:\n",
        "\n",
        "1. Use pre-trained BERT with a single classification layer to classify the COLA problem, only training the new layer (do not fine tune entire BERT model).\n",
        "\n",
        "2. Use pre-trained BERT with single classifications layer to classify, allowing the full BERT model parameters to be fine tuned. \n",
        "\n",
        "3. Compare the two models\n",
        "\n",
        "## NOTES\n",
        "---\n",
        "It is best to run this on GPU, otherwise training is painfully slow. On GPU, the training shouldn't take much longer than 15 minutes or so."
      ]
    },
    {
      "cell_type": "code",
      "metadata": {
        "id": "T-FKqHo8m04A"
      },
      "source": [
        "import tensorflow as tf\n",
        "import tensorflow_hub as hub\n",
        "import tensorflow_addons as tfa\n",
        "import tensorflow_datasets as tfds\n",
        "import numpy as np\n",
        "import pandas as pd\n",
        "import matplotlib.pyplot as plt\n",
        "try:\n",
        "  import tensorflow_text as text\n",
        "except:\n",
        "  !pip install -q tensorflow_text # restart runtime if needed to install\n",
        "  print(\"Restart runtime to import tensorflow_text\")"
      ],
      "execution_count": null,
      "outputs": []
    },
    {
      "cell_type": "markdown",
      "metadata": {
        "id": "N-ewc6FG2duT"
      },
      "source": [
        "### Set up parameters\n",
        "---\n",
        " - Note that I am not using the large BERT.\n",
        " - Note the name of the dataset is from the list of available datasets [here](https://www.tensorflow.org/datasets/catalog/overview#text)"
      ]
    },
    {
      "cell_type": "code",
      "metadata": {
        "id": "QkYzB4H_so5D"
      },
      "source": [
        "# parameters used in the notebook\n",
        "\n",
        "batch_size = 32               # batch size for fine tuning\n",
        "data_set_name = 'glue/cola'   # availale from tensorflow_datasets\n",
        "learning_rate_fast = 1e-3     # for just tuning new layer\n",
        "learning_rate_slow = 1e-5     # for fine tuning all layes\n",
        "\n",
        "BERT_URL = 'https://tfhub.dev/tensorflow/bert_en_uncased_L-12_H-768_A-12/3'       # BERT model to use\n",
        "BERT_PREPROCESS_URL = 'https://tfhub.dev/tensorflow/bert_en_uncased_preprocess/1' # Matching preprocess fn\n"
      ],
      "execution_count": null,
      "outputs": []
    },
    {
      "cell_type": "markdown",
      "metadata": {
        "id": "iXHFIj5d2o4Y"
      },
      "source": [
        "## Load data and so some preprocessing\n",
        "---\n",
        "`tensorflow_datasets` contains utilities for collecting common datasets.\n",
        "\n",
        "There is not much preprocessing required, since BERT comes with an accompanying preprocessor which uses correct vocabulary and tokenising scheme for BERT. It also creates the two extra masks required for training; word masks and sentence masks aka segment id. Since this task involves single sentences only, there is no need to adjust the segment id (we would need to do extra processing for some other tasks involving multiple sentences)\n"
      ]
    },
    {
      "cell_type": "code",
      "metadata": {
        "id": "SRzvMPmppRir"
      },
      "source": [
        "# load the data using handy tensorflow_datasets package\n",
        "(cola_train, cola_valid, cola_test), info = tfds.load(data_set_name,                  \n",
        "                                                      split=['train','validation','test'],\n",
        "                                                      with_info=True,\n",
        "                                                      )"
      ],
      "execution_count": null,
      "outputs": []
    },
    {
      "cell_type": "code",
      "metadata": {
        "id": "uA__QpIWsbsk",
        "colab": {
          "base_uri": "https://localhost:8080/"
        },
        "outputId": "2bdf4ea8-2b06-4c52-b8bb-8763a3c1b24d"
      },
      "source": [
        "# look at the metadata\n",
        "print(info)"
      ],
      "execution_count": null,
      "outputs": [
        {
          "output_type": "stream",
          "text": [
            "tfds.core.DatasetInfo(\n",
            "    name='glue',\n",
            "    version=1.0.0,\n",
            "    description='GLUE, the General Language Understanding Evaluation benchmark\n",
            "(https://gluebenchmark.com/) is a collection of resources for training,\n",
            "evaluating, and analyzing natural language understanding systems.',\n",
            "    homepage='https://nyu-mll.github.io/CoLA/',\n",
            "    features=FeaturesDict({\n",
            "        'idx': tf.int32,\n",
            "        'label': ClassLabel(shape=(), dtype=tf.int64, num_classes=2),\n",
            "        'sentence': Text(shape=(), dtype=tf.string),\n",
            "    }),\n",
            "    total_num_examples=10657,\n",
            "    splits={\n",
            "        'test': 1063,\n",
            "        'train': 8551,\n",
            "        'validation': 1043,\n",
            "    },\n",
            "    supervised_keys=None,\n",
            "    citation=\"\"\"@article{warstadt2018neural,\n",
            "      title={Neural Network Acceptability Judgments},\n",
            "      author={Warstadt, Alex and Singh, Amanpreet and Bowman, Samuel R},\n",
            "      journal={arXiv preprint arXiv:1805.12471},\n",
            "      year={2018}\n",
            "    }\n",
            "    @inproceedings{wang2019glue,\n",
            "      title={{GLUE}: A Multi-Task Benchmark and Analysis Platform for Natural Language Understanding},\n",
            "      author={Wang, Alex and Singh, Amanpreet and Michael, Julian and Hill, Felix and Levy, Omer and Bowman, Samuel R.},\n",
            "      note={In the Proceedings of ICLR.},\n",
            "      year={2019}\n",
            "    }\n",
            "    \n",
            "    Note that each GLUE dataset has its own citation. Please see the source to see\n",
            "    the correct citation for each contained dataset.\"\"\",\n",
            "    redistribution_info=,\n",
            ")\n",
            "\n"
          ],
          "name": "stdout"
        }
      ]
    },
    {
      "cell_type": "code",
      "metadata": {
        "colab": {
          "base_uri": "https://localhost:8080/"
        },
        "id": "nEgfysMloLcv",
        "outputId": "2446362a-dc7f-47bd-9ab9-fb443fc040b9"
      },
      "source": [
        "# look at the structure tfds provides the data in\n",
        "isinstance(cola_train, tf.data.Dataset)\n",
        "for example in cola_train.take(1):\n",
        "  print(example['sentence'])\n",
        "  print(example['label'])"
      ],
      "execution_count": null,
      "outputs": [
        {
          "output_type": "stream",
          "text": [
            "tf.Tensor(b'It is this hat that it is certain that he was wearing.', shape=(), dtype=string)\n",
            "tf.Tensor(1, shape=(), dtype=int64)\n"
          ],
          "name": "stdout"
        }
      ]
    },
    {
      "cell_type": "code",
      "metadata": {
        "colab": {
          "base_uri": "https://localhost:8080/"
        },
        "id": "FF8HZ_Bf6kRz",
        "outputId": "e02316b9-f03a-4b94-dfb6-58011a56dd7e"
      },
      "source": [
        "# minimal preprocessing - just extract the sentence and the label, shuffle, batch and prefetch\n",
        "cola_train = cola_train.map(lambda x: (x['sentence'], x['label']))\\\n",
        "  .shuffle(int(1e3))\\\n",
        "  .batch(32)\\\n",
        "  .prefetch(tf.data.experimental.AUTOTUNE)\n",
        "cola_valid = cola_valid.map(lambda x: (x['sentence'], x['label']))\\\n",
        "  .batch(32)\\\n",
        "  .prefetch(tf.data.experimental.AUTOTUNE)\n",
        "cola_test = cola_test.map(lambda x: (x['sentence'], x['label']))\\\n",
        "  .batch(32)\\\n",
        "  .prefetch(tf.data.experimental.AUTOTUNE)\n",
        "\n",
        "# have a look to make sure it looks okay\n",
        "for ex in cola_train.take(1):\n",
        "  print(ex)\n"
      ],
      "execution_count": null,
      "outputs": [
        {
          "output_type": "stream",
          "text": [
            "(<tf.Tensor: shape=(32,), dtype=string, numpy=\n",
            "array([b'The jeweller printed the name over the door.',\n",
            "       b'the girls likes themselves.', b'Sincerity examined a book.',\n",
            "       b'The well gushed oil.', b'We contributed her with our paycheck.',\n",
            "       b'Gilgamesh cut the steak with a knife.',\n",
            "       b\"I know I should go to the dentist's, but I just don't want to.\",\n",
            "       b'The horse kicked Penny in the shin.',\n",
            "       b'I ordered that John drink his beer.',\n",
            "       b'The gentleman who saved Marianne was Willoughby.',\n",
            "       b'We ate enough the puddings to satisfy us.',\n",
            "       b'What happened was they knew his parents.',\n",
            "       b'The children like to berry in the summer.',\n",
            "       b'John seems to have left.',\n",
            "       b'They gave my father, who had just turned 60, it.',\n",
            "       b'Nora sent the book to London.',\n",
            "       b'If Jim feels good, he will go.',\n",
            "       b'The box contained the ball to the ground.',\n",
            "       b'That I should evaporate is my fondest dream',\n",
            "       b'Who thought up the proposal that the committee be abolished?',\n",
            "       b'I took a snooze.', b'The dog went crazy.',\n",
            "       b'Fred became all the crazier, the more often Janet left.',\n",
            "       b'Teresa bottle fed the baby soy milk.',\n",
            "       b'There danced three men at the palace.',\n",
            "       b'In the corner lay a dog.', b'I shaped the dough.',\n",
            "       b'What she thought was that the poison was neutralised',\n",
            "       b'John knows.', b'I gave the charity.',\n",
            "       b'Fanny loved talking to Mary.', b'John tries him to win.'],\n",
            "      dtype=object)>, <tf.Tensor: shape=(32,), dtype=int64, numpy=\n",
            "array([1, 1, 0, 1, 0, 1, 1, 1, 1, 1, 0, 0, 1, 1, 0, 1, 1, 0, 1, 1, 1, 1,\n",
            "       1, 1, 0, 0, 1, 1, 1, 1, 1, 0])>)\n"
          ],
          "name": "stdout"
        }
      ]
    },
    {
      "cell_type": "markdown",
      "metadata": {
        "id": "suu9eE846-6O"
      },
      "source": [
        "## Load the BERT model and create our model for classification\n",
        "---\n",
        "The pre-trained model contains ~100M weights, so it will take a couple of minutes to load.\n",
        "\n",
        "Load BERT and matching preprocessor into a `KerasLayer`, which is the preferred way to load models from tensorflow hub when using the higher level API. For lower level control, use `.load()`\n",
        "\n",
        "After that, specify the model using the functional API, and compile. We will train it using cross entropy loss: \n",
        "\n",
        "$L(y, \\hat{y_i}) = \\frac{1}{n}\\sum_{i=1}^n \\,\\, - y_i \\ln{(\\hat{y_i})} - \n",
        "(1 - y_i) \\ln{(1 - \\hat{y_i})}$\n",
        "\n",
        "Where the $i$ indicates the $i^{th}$ element of the batch. Clearly if correct value is 1, then the loss will be large if $\\hat{y}$ is small, and vice versa for the negative class.\n",
        "\n",
        "The official [GLUE](https://gluebenchmark.com/tasks) benchmarks reports Matthew's Correlation ([wikipedia](https://en.wikipedia.org/wiki/Matthews_correlation_coefficient#:~:text=The%20Matthews%20correlation%20coefficient%20\\(MCC,Matthews%20in%201975)), so I also record that value. There is a library function to do so available in `tensorflow_addons`, however it doesn't seem to work correctly, as the value never changes. I haven't looked into it yet - possibly my syntax is just incorrect or something.\n",
        "\n",
        "EDIT: After investigating source code of `tensorflow_addons.metrics.MatthewsCorrelationCoefficient`, I can see it assumed predictions are input in binary form, not probabilities. But this is not what is passed to the metric during training, so it is not useful to view during training. F1-score on the other hand provides an optional argument \"threshold\" which will be used to convert probabilities to classes.\n",
        "\n",
        "SOLUTION: For now, create custom MCC metric. Use instead of the version provided by `tfa`\n"
      ]
    },
    {
      "cell_type": "code",
      "metadata": {
        "id": "dt6vHH4Dvpve"
      },
      "source": [
        "# load the BERT model and BERT preprocessor. Use the model which cares about upper/lower case\n",
        "bert = hub.KerasLayer(BERT_URL, name='BERT', trainable=False)\n",
        "prep = hub.KerasLayer(BERT_PREPROCESS_URL, name='BERT_PREPROCESSOR', trainable=False)"
      ],
      "execution_count": null,
      "outputs": []
    },
    {
      "cell_type": "code",
      "metadata": {
        "id": "5sSjZlZuEOX4"
      },
      "source": [
        ""
      ],
      "execution_count": null,
      "outputs": []
    },
    {
      "cell_type": "code",
      "metadata": {
        "id": "yAr3_APmEOUH"
      },
      "source": [
        "# create a custom metric to view the MCC score \n",
        "\n",
        "class MCC(tf.keras.metrics.Metric):\n",
        "  def __init__(self, name='MCC', **kwargs):\n",
        "    super().__init__(**kwargs)\n",
        "    self.tp = self.add_weight('true_positives', initializer='zeros')\n",
        "    self.tn = self.add_weight('true_negatives', initializer='zeros')\n",
        "    self.fp = self.add_weight('false_positives', initializer='zeros')\n",
        "    self.fn = self.add_weight('false_negatives', initializer='zeros')\n",
        "  def update_state(self, labels, preds, sample_weight=None):\n",
        "    preds_class = tf.math.round(preds)\n",
        "    tp = tf.reduce_sum(tf.where((preds_class == 1) & (labels == 1), 1., 0.))\n",
        "    tn = tf.reduce_sum(tf.where((preds_class == 0) & (labels == 0), 1., 0.))\n",
        "    fp = tf.reduce_sum(tf.where((preds_class == 1) & (labels == 0), 1., 0.))\n",
        "    fn = tf.reduce_sum(tf.where((preds_class == 0) & (labels == 1), 1., 0.))\n",
        "    self.tp.assign_add(tp)\n",
        "    self.tn.assign_add(tn)\n",
        "    self.fp.assign_add(fp)\n",
        "    self.fn.assign_add(fn)\n",
        "  def result(self):\n",
        "    numer = (self.tp * self.tn) - (self.fp * self.fn)\n",
        "    denom = tf.math.sqrt((self.tp + self.fp) * (self.tp + self.fn) * (self.tn + self.fp) * (self.tn + self.fn))\n",
        "    return tf.math.divide_no_nan(numer, denom)\n"
      ],
      "execution_count": null,
      "outputs": []
    },
    {
      "cell_type": "code",
      "metadata": {
        "colab": {
          "base_uri": "https://localhost:8080/"
        },
        "id": "9xa-oAqQEY9v",
        "outputId": "d3518825-3278-43fb-b39e-03be7d72c839"
      },
      "source": [
        "# create the model using functional API\n",
        "def create_model_1():\n",
        "  bert.trainable = False\n",
        "  prep.trainable = False\n",
        "  text_input = tf.keras.layers.Input(shape=(), dtype=tf.string, name='text_input')\n",
        "  preprocessed_text = prep(text_input)\n",
        "  bert_out = bert(preprocessed_text)\n",
        "  cls_token_out = bert_out['sequence_output'][:,0,:]\n",
        "  drop = tf.keras.layers.Dropout(0.3)(cls_token_out)\n",
        "  out = tf.keras.layers.Dense(units=1, activation='sigmoid', name='output')(drop)\n",
        "\n",
        "  return tf.keras.Model(inputs=[text_input], outputs=[out])\n",
        "\n",
        "m1 = create_model_1()\n",
        "m1.compile(optimizer=tf.keras.optimizers.Adam(learning_rate=learning_rate_fast),\n",
        "          loss=tf.keras.losses.BinaryCrossentropy(),\n",
        "          metrics=['accuracy', 'AUC', tfa.metrics.F1Score(num_classes=1, threshold=0.5), MCC()])\n",
        "m1.summary()\n"
      ],
      "execution_count": null,
      "outputs": [
        {
          "output_type": "stream",
          "text": [
            "Model: \"functional_3\"\n",
            "__________________________________________________________________________________________________\n",
            "Layer (type)                    Output Shape         Param #     Connected to                     \n",
            "==================================================================================================\n",
            "text_input (InputLayer)         [(None,)]            0                                            \n",
            "__________________________________________________________________________________________________\n",
            "BERT_PREPROCESSOR (KerasLayer)  {'input_word_ids': ( 0           text_input[0][0]                 \n",
            "__________________________________________________________________________________________________\n",
            "BERT (KerasLayer)               {'encoder_outputs':  109482241   BERT_PREPROCESSOR[1][0]          \n",
            "                                                                 BERT_PREPROCESSOR[1][1]          \n",
            "                                                                 BERT_PREPROCESSOR[1][2]          \n",
            "__________________________________________________________________________________________________\n",
            "tf_op_layer_strided_slice_1 (Te [(None, 768)]        0           BERT[1][14]                      \n",
            "__________________________________________________________________________________________________\n",
            "dropout_1 (Dropout)             (None, 768)          0           tf_op_layer_strided_slice_1[0][0]\n",
            "__________________________________________________________________________________________________\n",
            "output (Dense)                  (None, 1)            769         dropout_1[0][0]                  \n",
            "==================================================================================================\n",
            "Total params: 109,483,010\n",
            "Trainable params: 769\n",
            "Non-trainable params: 109,482,241\n",
            "__________________________________________________________________________________________________\n"
          ],
          "name": "stdout"
        }
      ]
    },
    {
      "cell_type": "markdown",
      "metadata": {
        "id": "cIsl6yVRAmI1"
      },
      "source": [
        "## Train the model with BERT weights frozen"
      ]
    },
    {
      "cell_type": "code",
      "metadata": {
        "colab": {
          "base_uri": "https://localhost:8080/"
        },
        "id": "TkfAZjUrHo_k",
        "outputId": "d9afde53-9b4a-4b92-8606-08352357232f"
      },
      "source": [
        "history1 = m1.fit(cola_train, epochs=3, validation_data=cola_valid)"
      ],
      "execution_count": null,
      "outputs": [
        {
          "output_type": "stream",
          "text": [
            "Epoch 1/3\n",
            "268/268 [==============================] - 99s 370ms/step - loss: 0.5936 - accuracy: 0.7011 - auc: 0.6229 - f1_score: 0.8161 - mcc_1: 0.1175 - val_loss: 0.5360 - val_accuracy: 0.7430 - val_auc: 0.7562 - val_f1_score: 0.8391 - val_mcc_1: 0.3254\n",
            "Epoch 2/3\n",
            "268/268 [==============================] - 97s 360ms/step - loss: 0.5383 - accuracy: 0.7398 - auc: 0.7222 - f1_score: 0.8364 - mcc_1: 0.2827 - val_loss: 0.5165 - val_accuracy: 0.7478 - val_auc: 0.7747 - val_f1_score: 0.8415 - val_mcc_1: 0.3420\n",
            "Epoch 3/3\n",
            "268/268 [==============================] - 97s 360ms/step - loss: 0.5275 - accuracy: 0.7467 - auc: 0.7374 - f1_score: 0.8390 - mcc_1: 0.3114 - val_loss: 0.5071 - val_accuracy: 0.7689 - val_auc: 0.7848 - val_f1_score: 0.8506 - val_mcc_1: 0.4092\n"
          ],
          "name": "stdout"
        }
      ]
    },
    {
      "cell_type": "markdown",
      "metadata": {
        "id": "uYO4hnTqbpvX"
      },
      "source": [
        "### **Verify that custom MCC matches library version only after predictions are converted from probabilities to classes**\n"
      ]
    },
    {
      "cell_type": "code",
      "metadata": {
        "id": "KbLo-c8eVj75"
      },
      "source": [
        "# these preds are still in form of probabilities\n",
        "preds = m1.predict(cola_valid)\n",
        "labels_valid = []\n",
        "for _, lab in cola_valid.as_numpy_iterator():\n",
        "  labels_valid += lab.tolist()\n",
        "labels_valid = np.array(labels_valid).reshape(-1,1)"
      ],
      "execution_count": null,
      "outputs": []
    },
    {
      "cell_type": "code",
      "metadata": {
        "colab": {
          "base_uri": "https://localhost:8080/"
        },
        "id": "WSfkdrhoV3LB",
        "outputId": "d28faa91-b01d-4771-fd14-30134a52b576"
      },
      "source": [
        "mcc1 = MCC()\n",
        "mcc2 = tfa.metrics.MatthewsCorrelationCoefficient(num_classes=1)\n",
        "mcc1.update_state(labels_valid, preds)\n",
        "mcc2.update_state(labels_valid, preds)\n",
        "# can see the results are different\n",
        "mcc1.result(), mcc2.result()"
      ],
      "execution_count": null,
      "outputs": [
        {
          "output_type": "execute_result",
          "data": {
            "text/plain": [
              "(<tf.Tensor: shape=(), dtype=float32, numpy=0.40923062>,\n",
              " <tf.Tensor: shape=(1,), dtype=float32, numpy=array([0.5879095], dtype=float32)>)"
            ]
          },
          "metadata": {
            "tags": []
          },
          "execution_count": 20
        }
      ]
    },
    {
      "cell_type": "code",
      "metadata": {
        "colab": {
          "base_uri": "https://localhost:8080/"
        },
        "id": "PREMYdQpXVtc",
        "outputId": "6aa33153-33d1-4d55-9a01-d7f4d60652a1"
      },
      "source": [
        "# now convert preds to classes and compute the two metrics again\n",
        "preds_ = tf.math.round(preds)\n",
        "mcc1 = MCC()\n",
        "mcc2 = tfa.metrics.MatthewsCorrelationCoefficient(num_classes=1)\n",
        "mcc1.update_state(labels_valid, preds_)\n",
        "mcc2.update_state(labels_valid, preds_)\n",
        "# the numbers match now - we can trust the custom MCC score\n",
        "mcc1.result(), mcc2.result()"
      ],
      "execution_count": null,
      "outputs": [
        {
          "output_type": "execute_result",
          "data": {
            "text/plain": [
              "(<tf.Tensor: shape=(), dtype=float32, numpy=0.40923062>,\n",
              " <tf.Tensor: shape=(1,), dtype=float32, numpy=array([0.40923062], dtype=float32)>)"
            ]
          },
          "metadata": {
            "tags": []
          },
          "execution_count": 21
        }
      ]
    },
    {
      "cell_type": "markdown",
      "metadata": {
        "id": "tnHAF_XtAtz2"
      },
      "source": [
        "## Create and train the second model, where BERT weights are not frozen"
      ]
    },
    {
      "cell_type": "code",
      "metadata": {
        "id": "xx4hpOV6L3ld"
      },
      "source": [
        "# RE-load the BERT model (reset weights)\n",
        "bert = hub.KerasLayer(BERT_URL, name='BERT', trainable=True)\n"
      ],
      "execution_count": null,
      "outputs": []
    },
    {
      "cell_type": "code",
      "metadata": {
        "colab": {
          "base_uri": "https://localhost:8080/"
        },
        "id": "ZNr5EwCnrRg6",
        "outputId": "1937e348-5ad0-4e99-d3b6-26dcc6ae624e"
      },
      "source": [
        "# now what if we allow all weights in the model to be fine tunes\n",
        "def create_model_2():\n",
        "  bert.trainable = True\n",
        "  text_input = tf.keras.layers.Input(shape=(), dtype=tf.string, name='text_input')\n",
        "  preprocessed_text = prep(text_input)\n",
        "  bert_out = bert(preprocessed_text)\n",
        "  cls_token_out = tf.keras.layers.Lambda(\n",
        "      lambda x: x['sequence_output'][:,0,:], name='get_cls_embedding')(bert_out)\n",
        "  drop = tf.keras.layers.Dropout(0.3)(cls_token_out)\n",
        "  out = tf.keras.layers.Dense(units=1, activation='sigmoid', name='output')(drop)\n",
        "\n",
        "  return tf.keras.Model(inputs=[text_input], outputs=[out])\n",
        "\n",
        "m2 = create_model_2()\n",
        "m2.compile(optimizer=tf.keras.optimizers.Adam(learning_rate=learning_rate_slow),\n",
        "          loss=tf.keras.losses.BinaryCrossentropy(),\n",
        "          metrics=['accuracy', 'AUC', tfa.metrics.F1Score(num_classes=1, threshold=0.5), MCC()])\n",
        "m2.summary()"
      ],
      "execution_count": null,
      "outputs": [
        {
          "output_type": "stream",
          "text": [
            "Model: \"functional_5\"\n",
            "__________________________________________________________________________________________________\n",
            "Layer (type)                    Output Shape         Param #     Connected to                     \n",
            "==================================================================================================\n",
            "text_input (InputLayer)         [(None,)]            0                                            \n",
            "__________________________________________________________________________________________________\n",
            "BERT_PREPROCESSOR (KerasLayer)  {'input_word_ids': ( 0           text_input[0][0]                 \n",
            "__________________________________________________________________________________________________\n",
            "BERT (KerasLayer)               {'encoder_outputs':  109482241   BERT_PREPROCESSOR[2][0]          \n",
            "                                                                 BERT_PREPROCESSOR[2][1]          \n",
            "                                                                 BERT_PREPROCESSOR[2][2]          \n",
            "__________________________________________________________________________________________________\n",
            "get_cls_embedding (Lambda)      (None, 768)          0           BERT[0][0]                       \n",
            "                                                                 BERT[0][1]                       \n",
            "                                                                 BERT[0][2]                       \n",
            "                                                                 BERT[0][3]                       \n",
            "                                                                 BERT[0][4]                       \n",
            "                                                                 BERT[0][5]                       \n",
            "                                                                 BERT[0][6]                       \n",
            "                                                                 BERT[0][7]                       \n",
            "                                                                 BERT[0][8]                       \n",
            "                                                                 BERT[0][9]                       \n",
            "                                                                 BERT[0][10]                      \n",
            "                                                                 BERT[0][11]                      \n",
            "                                                                 BERT[0][12]                      \n",
            "                                                                 BERT[0][13]                      \n",
            "                                                                 BERT[0][14]                      \n",
            "__________________________________________________________________________________________________\n",
            "dropout_2 (Dropout)             (None, 768)          0           get_cls_embedding[0][0]          \n",
            "__________________________________________________________________________________________________\n",
            "output (Dense)                  (None, 1)            769         dropout_2[0][0]                  \n",
            "==================================================================================================\n",
            "Total params: 109,483,010\n",
            "Trainable params: 109,483,009\n",
            "Non-trainable params: 1\n",
            "__________________________________________________________________________________________________\n"
          ],
          "name": "stdout"
        }
      ]
    },
    {
      "cell_type": "code",
      "metadata": {
        "colab": {
          "base_uri": "https://localhost:8080/"
        },
        "id": "xuytGv1irlB8",
        "outputId": "1e05f0a9-ede5-4d00-c438-70a5bf8d604e"
      },
      "source": [
        "history2 = m2.fit(cola_train, epochs=3, validation_data=cola_valid)"
      ],
      "execution_count": null,
      "outputs": [
        {
          "output_type": "stream",
          "text": [
            "Epoch 1/3\n",
            "268/268 [==============================] - 244s 909ms/step - loss: 0.5363 - accuracy: 0.7390 - auc: 0.7302 - f1_score: 0.8298 - mcc_4: 0.3039 - val_loss: 0.4540 - val_accuracy: 0.7967 - val_auc: 0.8567 - val_f1_score: 0.8667 - val_mcc_4: 0.4914\n",
            "Epoch 2/3\n",
            "268/268 [==============================] - 244s 912ms/step - loss: 0.3494 - accuracy: 0.8494 - auc: 0.9040 - f1_score: 0.8954 - mcc_4: 0.6288 - val_loss: 0.4888 - val_accuracy: 0.8111 - val_auc: 0.8797 - val_f1_score: 0.8743 - val_mcc_4: 0.5312\n",
            "Epoch 3/3\n",
            "268/268 [==============================] - 244s 911ms/step - loss: 0.2356 - accuracy: 0.9054 - auc: 0.9565 - f1_score: 0.9336 - mcc_4: 0.7698 - val_loss: 0.5074 - val_accuracy: 0.8255 - val_auc: 0.8728 - val_f1_score: 0.8793 - val_mcc_4: 0.5737\n"
          ],
          "name": "stdout"
        }
      ]
    },
    {
      "cell_type": "markdown",
      "metadata": {
        "id": "HfJUPuPuBHX8"
      },
      "source": [
        "## Compare the results for first two models on validation set"
      ]
    },
    {
      "cell_type": "code",
      "metadata": {
        "id": "rrEM51xfyLL0"
      },
      "source": [
        "hist_1 = pd.DataFrame(history1.history)\n",
        "hist_2 = pd.DataFrame(history2.history)\n",
        "hist = hist_1.join(hist_2, lsuffix='_freeze_bert')\n",
        "hist = hist.applymap(lambda x: x[0] if isinstance(x, np.ndarray) else x)"
      ],
      "execution_count": null,
      "outputs": []
    },
    {
      "cell_type": "code",
      "metadata": {
        "colab": {
          "base_uri": "https://localhost:8080/",
          "height": 1000
        },
        "id": "plpNAMD6zHE5",
        "outputId": "a6a8a598-2372-4249-f060-053901b998f5"
      },
      "source": [
        "# compare the validation loss, accuracy and AUC for the two models\n",
        "hist.loc[:, [x for x in hist.columns if (x.startswith('val_auc') | x.startswith('auc'))]].plot(title='AUC')\n",
        "hist.loc[:, [x for x in hist.columns if (x.startswith('val_loss') | x.startswith('loss'))]].plot(title=\"Loss\")\n",
        "hist.loc[:, [x for x in hist.columns if (x.startswith('val_mcc') | x.startswith('mcc'))]].plot(title=\"MCC\")\n",
        "hist.loc[:, [x for x in hist.columns if (x.startswith('val_f1') | x.startswith('f1'))]].plot(title=\"F1\")\n",
        "hist.loc[:, [x for x in hist.columns if (x.startswith('val_acc') | x.startswith('acc'))]].plot(title=\"Accuracy\")"
      ],
      "execution_count": null,
      "outputs": [
        {
          "output_type": "execute_result",
          "data": {
            "text/plain": [
              "<matplotlib.axes._subplots.AxesSubplot at 0x7f9d71c06860>"
            ]
          },
          "metadata": {
            "tags": []
          },
          "execution_count": 26
        },
        {
          "output_type": "display_data",
          "data": {
            "image/png": "[encoded data removed]",
            "text/plain": [
              "<Figure size 432x288 with 1 Axes>"
            ]
          },
          "metadata": {
            "tags": [],
            "needs_background": "light"
          }
        },
        {
          "output_type": "display_data",
          "data": {
            "image/png": "[encoded data removed]",
            "text/plain": [
              "<Figure size 432x288 with 1 Axes>"
            ]
          },
          "metadata": {
            "tags": [],
            "needs_background": "light"
          }
        },
        {
          "output_type": "display_data",
          "data": {
            "image/png": "[encoded data removed]",
            "text/plain": [
              "<Figure size 432x288 with 1 Axes>"
            ]
          },
          "metadata": {
            "tags": [],
            "needs_background": "light"
          }
        },
        {
          "output_type": "display_data",
          "data": {
            "image/png": "[encoded data removed]",
            "text/plain": [
              "<Figure size 432x288 with 1 Axes>"
            ]
          },
          "metadata": {
            "tags": [],
            "needs_background": "light"
          }
        },
        {
          "output_type": "display_data",
          "data": {
            "image/png": "[encoded data removed]",
            "text/plain": [
              "<Figure size 432x288 with 1 Axes>"
            ]
          },
          "metadata": {
            "tags": [],
            "needs_background": "light"
          }
        }
      ]
    },
    {
      "cell_type": "markdown",
      "metadata": {
        "id": "ecUIVkzeUBS2"
      },
      "source": [
        "Looks like you would choose the fully tuned model based on all metrics except for loss, where it is a tie.\n",
        "\n",
        "I guess this means the freeze bert model is just being more confident in one of the two classes to get the loss score up, but not so good at selecting the bad grammar sentences? Should create a confusion matrix to understand better.\n",
        "\n",
        "The dataset is not balanced, so be careful when looking at accuracy. (see below)\n",
        "\n",
        "\n",
        "\n"
      ]
    },
    {
      "cell_type": "markdown",
      "metadata": {
        "id": "83epQEZls8nU"
      },
      "source": [
        "## Main Observation\n",
        "\n",
        "**The Matthews Correlation is no where near the number claimed in the paper (although note the value published is for the test set). Need to look into why the performance is not comparable**\n",
        "\n",
        "Maybe I should use the pooling output instead of the classification output? It is possible the classification output is only relevant to the two sentance classification task. Need to revisit this.\n"
      ]
    },
    {
      "cell_type": "code",
      "metadata": {
        "id": "d5Z8GXY3wOeM",
        "colab": {
          "base_uri": "https://localhost:8080/"
        },
        "outputId": "4c7920db-147d-4e90-a651-7594ae6f79ef"
      },
      "source": [
        "# check out the balance of the dataset \n",
        "labels = []\n",
        "for _, lab in cola_train.as_numpy_iterator():\n",
        "    labels += lab.tolist()\n",
        "labels = pd.DataFrame(labels, columns=['label'])\n",
        "(labels == 1).sum().values / labels.shape[0], (labels == 0).sum().values / labels.shape[0]"
      ],
      "execution_count": null,
      "outputs": [
        {
          "output_type": "execute_result",
          "data": {
            "text/plain": [
              "(array([0.70436206]), array([0.29563794]))"
            ]
          },
          "metadata": {
            "tags": []
          },
          "execution_count": 32
        }
      ]
    },
    {
      "cell_type": "code",
      "metadata": {
        "id": "UkWcVWKKcWaX"
      },
      "source": [
        "labels_valid = []\n",
        "for _, lab in cola_valid.as_numpy_iterator():\n",
        "  labels_valid += lab.tolist()\n",
        "\n",
        "predictions_freeze_bert = m1.predict(cola_valid) \n",
        "predictions_full = m2.predict(cola_valid)\n"
      ],
      "execution_count": null,
      "outputs": []
    },
    {
      "cell_type": "code",
      "metadata": {
        "colab": {
          "base_uri": "https://localhost:8080/"
        },
        "id": "1-wpoyrpua_G",
        "outputId": "bc412752-0c3e-4ded-8090-59f83bfad525"
      },
      "source": [
        "confusion_freeze_bert = tf.math.confusion_matrix(\n",
        "    labels_valid, np.rint(predictions_freeze_bert), dtype=tf.dtypes.int32,\n",
        ")\n",
        "\n",
        "\n",
        "# true labels are rows\n",
        "# predicted labels are columns\n",
        "\n",
        "confusion_freeze_bert\n",
        "\n"
      ],
      "execution_count": null,
      "outputs": [
        {
          "output_type": "execute_result",
          "data": {
            "text/plain": [
              "<tf.Tensor: shape=(2, 2), dtype=int32, numpy=\n",
              "array([[116, 206],\n",
              "       [ 35, 686]], dtype=int32)>"
            ]
          },
          "metadata": {
            "tags": []
          },
          "execution_count": 29
        }
      ]
    },
    {
      "cell_type": "code",
      "metadata": {
        "id": "_ezGHYIry47w"
      },
      "source": [
        "class_0_actual = confusion_freeze_bert.numpy()[0,:].sum()\n",
        "class_0_prediction = confusion_freeze_bert.numpy()[:,0].sum()\n",
        "class_1_actual = confusion_freeze_bert.numpy()[1,:].sum()\n",
        "class_1_prediction = confusion_freeze_bert.numpy()[:,1].sum()\n",
        "\n",
        "accuracy = np.diag(confusion_freeze_bert).sum() / confusion_freeze_bert.numpy().sum()"
      ],
      "execution_count": null,
      "outputs": []
    },
    {
      "cell_type": "code",
      "metadata": {
        "colab": {
          "base_uri": "https://localhost:8080/"
        },
        "id": "biormZSXZJPN",
        "outputId": "c8fc87bb-316a-4570-eb73-30055ed5294b"
      },
      "source": [
        "accuracy"
      ],
      "execution_count": null,
      "outputs": [
        {
          "output_type": "execute_result",
          "data": {
            "text/plain": [
              "0.7689357622243528"
            ]
          },
          "metadata": {
            "tags": []
          },
          "execution_count": 31
        }
      ]
    }
  ]
}
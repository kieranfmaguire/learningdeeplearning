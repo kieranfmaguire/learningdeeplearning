{
  "nbformat": 4,
  "nbformat_minor": 0,
  "metadata": {
    "colab": {
      "name": "fine_tune_BERT_on_COLA.ipynb",
      "provenance": [],
      "toc_visible": true,
      "authorship_tag": "ABX9TyPl1kWD+/yfDI3iDRj0VEq4",
      "include_colab_link": true
    },
    "kernelspec": {
      "name": "python3",
      "display_name": "Python 3"
    },
    "accelerator": "GPU"
  },
  "cells": [
    {
      "cell_type": "markdown",
      "metadata": {
        "id": "view-in-github",
        "colab_type": "text"
      },
      "source": [
        "<a href=\"https://colab.research.google.com/github/kieranfmaguire/learningdeeplearning/blob/main/notebooks/fine_tune_BERT_on_COLA.ipynb\" target=\"_parent\"><img src=\"https://colab.research.google.com/assets/colab-badge.svg\" alt=\"Open In Colab\"/></a>"
      ]
    },
    {
      "cell_type": "markdown",
      "metadata": {
        "id": "hVySWPVhs_Mf"
      },
      "source": [
        "# Finetune BERT model on the Corpus of Linguistic Acceptability (COLA) dataset\n",
        "---\n",
        "This is a small dataset with only around 10,000 examples. Each example is a single sentence, and a label indicating whether that sentence is grammatically correct or not.\n",
        "\n",
        "This is one of the many tasks that make up the General Language Understanding Evaluation (GLUE) benchmark often used for assessing the performance of NLP models.\n",
        "\n",
        "## Plan\n",
        "---\n",
        "\n",
        "According to the BERT paper [here](https://arxiv.org/pdf/1810.04805.pdf), to achieve state of the art scores on almost all of the GLUE tasks, they simply fine tuned the model for 3 epochs (scanning a grid of learning rates and selecting the best). This is feasible even on a free GPU on colab (eg here).\n",
        "\n",
        "To fine tune the model for classification tasks, they add a single dense layer to the end of the model. The input to the classification layer is the embedding corresponding to the special input token `[CLS]`, which can be found at the first position of the sequence outputs of the model. The authors also claim that finetuning just the classification layer still achieved very good results at a lower computational cost. Therefore I will try both methods here. \n",
        "\n",
        "To save time, I will only use a single learning rate. `1e-3` for the version where BERT weights are frozen, and `1e-5` when training jointly.\n",
        "\n",
        "To that end, I will do the following:\n",
        "\n",
        "1. Use pre-trained BERT with a single classification layer to classify the COLA problem, only training the new layer (do not fine tune entire BERT model).\n",
        "\n",
        "2. Use pre-trained BERT with single classifications layer to classify, allowing the full BERT model parameters to be fine tuned. \n",
        "\n",
        "3. Compare the two models\n",
        "\n",
        "## NOTES\n",
        "---\n",
        "It is best to run this on GPU, otherwise training is painfully slow. On GPU, the training shouldn't take much longer than 15 minutes or so."
      ]
    },
    {
      "cell_type": "code",
      "metadata": {
        "id": "T-FKqHo8m04A"
      },
      "source": [
        "import tensorflow as tf\n",
        "import tensorflow_hub as hub\n",
        "import tensorflow_addons as tfa\n",
        "import tensorflow_datasets as tfds\n",
        "import numpy as np\n",
        "import pandas as pd\n",
        "import matplotlib.pyplot as plt\n",
        "try:\n",
        "  import tensorflow_text as text\n",
        "except:\n",
        "  !pip install -q tensorflow_text # restart runtime if needed to install\n",
        "  import tensforflow_text as text\n",
        "  print(\"Restart runtime to import tensorflow_text\")"
      ],
      "execution_count": 30,
      "outputs": []
    },
    {
      "cell_type": "markdown",
      "metadata": {
        "id": "N-ewc6FG2duT"
      },
      "source": [
        "### Set up parameters\n",
        "---\n",
        " - Note that I am not using the large BERT.\n",
        " - Note the name of the dataset is from the list of available datasets [here](https://www.tensorflow.org/datasets/catalog/overview#text)"
      ]
    },
    {
      "cell_type": "code",
      "metadata": {
        "id": "QkYzB4H_so5D"
      },
      "source": [
        "# parameters used in the notebook\n",
        "\n",
        "batch_size = 32               # batch size for fine tuning\n",
        "data_set_name = 'glue/cola'   # availale from tensorflow_datasets\n",
        "learning_rate_fast = 1e-3     # for just tuning new layer\n",
        "learning_rate_slow = 1e-5     # for fine tuning all layes\n",
        "\n",
        "BERT_URL = 'https://tfhub.dev/tensorflow/bert_en_uncased_L-12_H-768_A-12/3'       # BERT model to use\n",
        "BERT_PREPROCESS_URL = 'https://tfhub.dev/tensorflow/bert_en_uncased_preprocess/1' # Matching preprocess fn\n"
      ],
      "execution_count": 31,
      "outputs": []
    },
    {
      "cell_type": "markdown",
      "metadata": {
        "id": "iXHFIj5d2o4Y"
      },
      "source": [
        "## Load data and so some preprocessing\n",
        "---\n",
        "`tensorflow_datasets` contains utilities for collecting common datasets.\n",
        "\n",
        "There is not much preprocessing required, since BERT comes with an accompanying preprocessor which uses correct vocabulary and tokenising scheme for BERT. It also creates the two extra masks required for training; word masks and sentence masks aka segment id. Since this task involves single sentences only, there is no need to adjust the segment id (we would need to do extra processing for some other tasks involving multiple sentences)\n"
      ]
    },
    {
      "cell_type": "code",
      "metadata": {
        "id": "SRzvMPmppRir"
      },
      "source": [
        "# load the data using handy tensorflow_datasets package\n",
        "(cola_train, cola_valid, cola_test), info = tfds.load(data_set_name,                  \n",
        "                                                      split=['train','validation','test'],\n",
        "                                                      with_info=True,\n",
        "                                                      )"
      ],
      "execution_count": 32,
      "outputs": []
    },
    {
      "cell_type": "code",
      "metadata": {
        "id": "uA__QpIWsbsk",
        "colab": {
          "base_uri": "https://localhost:8080/"
        },
        "outputId": "7e88301f-8012-4d74-8f25-6b80a4e31c03"
      },
      "source": [
        "# look at the metadata\n",
        "print(info)"
      ],
      "execution_count": 33,
      "outputs": [
        {
          "output_type": "stream",
          "text": [
            "tfds.core.DatasetInfo(\n",
            "    name='glue',\n",
            "    version=1.0.0,\n",
            "    description='GLUE, the General Language Understanding Evaluation benchmark\n",
            "(https://gluebenchmark.com/) is a collection of resources for training,\n",
            "evaluating, and analyzing natural language understanding systems.',\n",
            "    homepage='https://nyu-mll.github.io/CoLA/',\n",
            "    features=FeaturesDict({\n",
            "        'idx': tf.int32,\n",
            "        'label': ClassLabel(shape=(), dtype=tf.int64, num_classes=2),\n",
            "        'sentence': Text(shape=(), dtype=tf.string),\n",
            "    }),\n",
            "    total_num_examples=10657,\n",
            "    splits={\n",
            "        'test': 1063,\n",
            "        'train': 8551,\n",
            "        'validation': 1043,\n",
            "    },\n",
            "    supervised_keys=None,\n",
            "    citation=\"\"\"@article{warstadt2018neural,\n",
            "      title={Neural Network Acceptability Judgments},\n",
            "      author={Warstadt, Alex and Singh, Amanpreet and Bowman, Samuel R},\n",
            "      journal={arXiv preprint arXiv:1805.12471},\n",
            "      year={2018}\n",
            "    }\n",
            "    @inproceedings{wang2019glue,\n",
            "      title={{GLUE}: A Multi-Task Benchmark and Analysis Platform for Natural Language Understanding},\n",
            "      author={Wang, Alex and Singh, Amanpreet and Michael, Julian and Hill, Felix and Levy, Omer and Bowman, Samuel R.},\n",
            "      note={In the Proceedings of ICLR.},\n",
            "      year={2019}\n",
            "    }\n",
            "    \n",
            "    Note that each GLUE dataset has its own citation. Please see the source to see\n",
            "    the correct citation for each contained dataset.\"\"\",\n",
            "    redistribution_info=,\n",
            ")\n",
            "\n"
          ],
          "name": "stdout"
        }
      ]
    },
    {
      "cell_type": "code",
      "metadata": {
        "colab": {
          "base_uri": "https://localhost:8080/"
        },
        "id": "nEgfysMloLcv",
        "outputId": "907439a3-459a-429a-8fd0-fcc2f1b2bb15"
      },
      "source": [
        "# look at the structure tfds provides the data in\n",
        "isinstance(cola_train, tf.data.Dataset)\n",
        "for example in cola_train.take(1):\n",
        "  print(example['sentence'])\n",
        "  print(example['label'])"
      ],
      "execution_count": 34,
      "outputs": [
        {
          "output_type": "stream",
          "text": [
            "tf.Tensor(b'It is this hat that it is certain that he was wearing.', shape=(), dtype=string)\n",
            "tf.Tensor(1, shape=(), dtype=int64)\n"
          ],
          "name": "stdout"
        }
      ]
    },
    {
      "cell_type": "code",
      "metadata": {
        "colab": {
          "base_uri": "https://localhost:8080/"
        },
        "id": "FF8HZ_Bf6kRz",
        "outputId": "08fb7bff-2d65-496a-8afb-3be01815f2f0"
      },
      "source": [
        "# minimal preprocessing - just extract the sentence and the label, shuffle, batch and prefetch\n",
        "cola_train = cola_train.map(lambda x: (x['sentence'], x['label']))\\\n",
        "  .shuffle(int(1e3))\\\n",
        "  .batch(32)\\\n",
        "  .prefetch(tf.data.experimental.AUTOTUNE)\n",
        "cola_valid = cola_valid.map(lambda x: (x['sentence'], x['label']))\\\n",
        "  .batch(32)\\\n",
        "  .prefetch(tf.data.experimental.AUTOTUNE)\n",
        "cola_test = cola_test.map(lambda x: (x['sentence'], x['label']))\\\n",
        "  .batch(32)\\\n",
        "  .prefetch(tf.data.experimental.AUTOTUNE)\n",
        "\n",
        "# have a look to make sure it looks okay\n",
        "for ex in cola_train.take(1):\n",
        "  print(ex)\n"
      ],
      "execution_count": 35,
      "outputs": [
        {
          "output_type": "stream",
          "text": [
            "(<tf.Tensor: shape=(32,), dtype=string, numpy=\n",
            "array([b'How do you think John bought what?',\n",
            "       b'Aloe may have an analgesic effect on inflammation and minor skin irritations.',\n",
            "       b'Do you know the boy who Mary saw?',\n",
            "       b'the barge piled high with logs.', b'Sincerity examined a book.',\n",
            "       b'That Plato lived in the city of Athens was well-known.',\n",
            "       b'John put in the box.', b'Bill floated into the cave.',\n",
            "       b'Should not Mary taste the soup?', b'the girls likes themselves.',\n",
            "       b'We expect them to examine themselves.',\n",
            "       b'John was seeing his children.',\n",
            "       b'What did Bill cook supper and wash?',\n",
            "       b'The Dodgers beat the Red Sox and the Dodgers were beaten by the Giants.',\n",
            "       b'He analysis her was flawed',\n",
            "       b'This girl will not buy bread, will she buy bread?',\n",
            "       b'We rummaged through the desk for papers.',\n",
            "       b'Anne astonished her father.',\n",
            "       b'John sang a song and danced to the music.',\n",
            "       b'Poseidon was asleep, when the executioner arrived.',\n",
            "       b'Anson kicked the cat', b'Jake threw the ball halfway to Bill.',\n",
            "       b'I ordered if John drink his beer.', b'Who did Bill leave.',\n",
            "       b'John gave Tom a book a record.', b'It was kissed the puppy.',\n",
            "       b'Tom hid the manuscript in the cupboard.',\n",
            "       b'Cities destroy easily.', b'her will the race.',\n",
            "       b'Gwen exchanged the dress for a shirt.',\n",
            "       b'The more he reads, the more people I wonder what he will give to.',\n",
            "       b'Bob is very serious about Mary, but less so than Paul.'],\n",
            "      dtype=object)>, <tf.Tensor: shape=(32,), dtype=int64, numpy=\n",
            "array([1, 1, 1, 1, 0, 1, 0, 1, 0, 1, 1, 1, 0, 1, 0, 1, 1, 1, 1, 1, 1, 1,\n",
            "       0, 1, 0, 0, 1, 0, 0, 1, 0, 1])>)\n"
          ],
          "name": "stdout"
        }
      ]
    },
    {
      "cell_type": "markdown",
      "metadata": {
        "id": "suu9eE846-6O"
      },
      "source": [
        "## Load the BERT model and create our model for classification\n",
        "---\n",
        "The pre-trained model contains ~100M weights, so it will take a couple of minutes to load.\n",
        "\n",
        "Load BERT and matching preprocessor into a `KerasLayer`, which is the preferred way to load models from tensorflow hub when using the higher level API. For lower level control, use `.load()`\n",
        "\n",
        "After that, specify the model using the functional API, and compile. We will train it using cross entropy loss: \n",
        "\n",
        "$L(y, \\hat{y_i}) = \\frac{1}{n}\\sum_{i=1}^n \\,\\, - y_i \\ln{(\\hat{y_i})} - \n",
        "(1 - y_i) \\ln{(1 - \\hat{y_i})}$\n",
        "\n",
        "Where the $i$ indicates the $i^{th}$ element of the batch. Clearly if correct value is 1, then the loss will be large if $\\hat{y}$ is small, and vice versa for the negative class.\n",
        "\n",
        "The official [GLUE](https://gluebenchmark.com/tasks) benchmarks reports Matthew's Correlation ([wikipedia](https://en.wikipedia.org/wiki/Matthews_correlation_coefficient#:~:text=The%20Matthews%20correlation%20coefficient%20\\(MCC,Matthews%20in%201975)), so I also record that value. There is a library function to do so available in `tensorflow_addons`, however it doesn't seem to work correctly, as the value never changes. I haven't looked into it yet - possibly my syntax is just incorrect or something.\n"
      ]
    },
    {
      "cell_type": "code",
      "metadata": {
        "id": "dt6vHH4Dvpve",
        "colab": {
          "base_uri": "https://localhost:8080/"
        },
        "outputId": "1b262fb6-cc25-4c9d-e976-b4c840f4ba55"
      },
      "source": [
        "# load the BERT model and BERT preprocessor. Use the model which cares about upper/lower case\n",
        "bert = hub.KerasLayer(BERT_URL, name='BERT', trainable=False)\n",
        "prep = hub.KerasLayer(BERT_PREPROCESS_URL, name='BERT_PREPROCESSOR', trainable=False)"
      ],
      "execution_count": 59,
      "outputs": [
        {
          "output_type": "stream",
          "text": [
            "WARNING:tensorflow:5 out of the last 5 calls to <function recreate_function.<locals>.restored_function_body at 0x7f2e29d6ea60> triggered tf.function retracing. Tracing is expensive and the excessive number of tracings could be due to (1) creating @tf.function repeatedly in a loop, (2) passing tensors with different shapes, (3) passing Python objects instead of tensors. For (1), please define your @tf.function outside of the loop. For (2), @tf.function has experimental_relax_shapes=True option that relaxes argument shapes that can avoid unnecessary retracing. For (3), please refer to https://www.tensorflow.org/tutorials/customization/performance#python_or_tensor_args and https://www.tensorflow.org/api_docs/python/tf/function for  more details.\n"
          ],
          "name": "stdout"
        },
        {
          "output_type": "stream",
          "text": [
            "WARNING:tensorflow:5 out of the last 5 calls to <function recreate_function.<locals>.restored_function_body at 0x7f2e29d6ea60> triggered tf.function retracing. Tracing is expensive and the excessive number of tracings could be due to (1) creating @tf.function repeatedly in a loop, (2) passing tensors with different shapes, (3) passing Python objects instead of tensors. For (1), please define your @tf.function outside of the loop. For (2), @tf.function has experimental_relax_shapes=True option that relaxes argument shapes that can avoid unnecessary retracing. For (3), please refer to https://www.tensorflow.org/tutorials/customization/performance#python_or_tensor_args and https://www.tensorflow.org/api_docs/python/tf/function for  more details.\n"
          ],
          "name": "stderr"
        },
        {
          "output_type": "stream",
          "text": [
            "WARNING:tensorflow:6 out of the last 6 calls to <function recreate_function.<locals>.restored_function_body at 0x7f2e29d6ef28> triggered tf.function retracing. Tracing is expensive and the excessive number of tracings could be due to (1) creating @tf.function repeatedly in a loop, (2) passing tensors with different shapes, (3) passing Python objects instead of tensors. For (1), please define your @tf.function outside of the loop. For (2), @tf.function has experimental_relax_shapes=True option that relaxes argument shapes that can avoid unnecessary retracing. For (3), please refer to https://www.tensorflow.org/tutorials/customization/performance#python_or_tensor_args and https://www.tensorflow.org/api_docs/python/tf/function for  more details.\n"
          ],
          "name": "stdout"
        },
        {
          "output_type": "stream",
          "text": [
            "WARNING:tensorflow:6 out of the last 6 calls to <function recreate_function.<locals>.restored_function_body at 0x7f2e29d6ef28> triggered tf.function retracing. Tracing is expensive and the excessive number of tracings could be due to (1) creating @tf.function repeatedly in a loop, (2) passing tensors with different shapes, (3) passing Python objects instead of tensors. For (1), please define your @tf.function outside of the loop. For (2), @tf.function has experimental_relax_shapes=True option that relaxes argument shapes that can avoid unnecessary retracing. For (3), please refer to https://www.tensorflow.org/tutorials/customization/performance#python_or_tensor_args and https://www.tensorflow.org/api_docs/python/tf/function for  more details.\n"
          ],
          "name": "stderr"
        }
      ]
    },
    {
      "cell_type": "code",
      "metadata": {
        "colab": {
          "base_uri": "https://localhost:8080/"
        },
        "id": "9xa-oAqQEY9v",
        "outputId": "118539f1-0a06-43ff-dbb4-ed4b15117cd8"
      },
      "source": [
        "# create the model using functional API\n",
        "def create_model_1():\n",
        "  bert.trainable = False\n",
        "  prep.trainable = False\n",
        "  text_input = tf.keras.layers.Input(shape=(), dtype=tf.string, name='text_input')\n",
        "  preprocessed_text = prep(text_input)\n",
        "  bert_out = bert(preprocessed_text)\n",
        "  cls_token_out = bert_out['sequence_output'][:,0,:]\n",
        "  # cls_token_out = tf.keras.layers.Lambda(\n",
        "  #     lambda x: x['sequence_output'][:,0,:], name='get_cls_embedding')(bert_out)\n",
        "  drop = tf.keras.layers.Dropout(0.3)(cls_token_out)\n",
        "  out = tf.keras.layers.Dense(units=1, activation='sigmoid', name='output')(drop)\n",
        "\n",
        "  return tf.keras.Model(inputs=[text_input], outputs=[out])\n",
        "\n",
        "m1 = create_model_1()\n",
        "m1.compile(optimizer=tf.keras.optimizers.Adam(learning_rate=learning_rate_fast),\n",
        "          loss=tf.keras.losses.BinaryCrossentropy(),\n",
        "          metrics=['accuracy', 'AUC', tfa.metrics.F1Score(num_classes=1), tfa.metrics.MatthewsCorrelationCoefficient(num_classes=1)])\n",
        "m1.summary()\n"
      ],
      "execution_count": 60,
      "outputs": [
        {
          "output_type": "stream",
          "text": [
            "Model: \"functional_21\"\n",
            "__________________________________________________________________________________________________\n",
            "Layer (type)                    Output Shape         Param #     Connected to                     \n",
            "==================================================================================================\n",
            "text_input (InputLayer)         [(None,)]            0                                            \n",
            "__________________________________________________________________________________________________\n",
            "BERT_PREPROCESSOR (KerasLayer)  {'input_word_ids': ( 0           text_input[0][0]                 \n",
            "__________________________________________________________________________________________________\n",
            "BERT (KerasLayer)               {'sequence_output':  109482241   BERT_PREPROCESSOR[0][0]          \n",
            "                                                                 BERT_PREPROCESSOR[0][1]          \n",
            "                                                                 BERT_PREPROCESSOR[0][2]          \n",
            "__________________________________________________________________________________________________\n",
            "tf_op_layer_strided_slice_5 (Te [(None, 768)]        0           BERT[0][14]                      \n",
            "__________________________________________________________________________________________________\n",
            "dropout_10 (Dropout)            (None, 768)          0           tf_op_layer_strided_slice_5[0][0]\n",
            "__________________________________________________________________________________________________\n",
            "output (Dense)                  (None, 1)            769         dropout_10[0][0]                 \n",
            "==================================================================================================\n",
            "Total params: 109,483,010\n",
            "Trainable params: 769\n",
            "Non-trainable params: 109,482,241\n",
            "__________________________________________________________________________________________________\n"
          ],
          "name": "stdout"
        }
      ]
    },
    {
      "cell_type": "markdown",
      "metadata": {
        "id": "cIsl6yVRAmI1"
      },
      "source": [
        "## Train the model with BERT weights frozen"
      ]
    },
    {
      "cell_type": "code",
      "metadata": {
        "colab": {
          "base_uri": "https://localhost:8080/"
        },
        "id": "TkfAZjUrHo_k",
        "outputId": "c86ae5ba-c604-4cfe-b1cb-ad272f916478"
      },
      "source": [
        "history1 = m1.fit(cola_train, epochs=3, validation_data=cola_valid)"
      ],
      "execution_count": 61,
      "outputs": [
        {
          "output_type": "stream",
          "text": [
            "Epoch 1/3\n",
            "268/268 [==============================] - 87s 325ms/step - loss: 0.5951 - accuracy: 0.7031 - auc: 0.6273 - f1_score: 0.8265 - MatthewsCorrelationCoefficient: 0.5934 - val_loss: 0.5415 - val_accuracy: 0.7488 - val_auc: 0.7476 - val_f1_score: 0.8175 - val_MatthewsCorrelationCoefficient: 0.5879\n",
            "Epoch 2/3\n",
            "268/268 [==============================] - 89s 334ms/step - loss: 0.5403 - accuracy: 0.7401 - auc: 0.7206 - f1_score: 0.8265 - MatthewsCorrelationCoefficient: 0.5934 - val_loss: 0.5193 - val_accuracy: 0.7536 - val_auc: 0.7657 - val_f1_score: 0.8175 - val_MatthewsCorrelationCoefficient: 0.5879\n",
            "Epoch 3/3\n",
            "268/268 [==============================] - 92s 342ms/step - loss: 0.5284 - accuracy: 0.7486 - auc: 0.7398 - f1_score: 0.8265 - MatthewsCorrelationCoefficient: 0.5934 - val_loss: 0.5124 - val_accuracy: 0.7526 - val_auc: 0.7732 - val_f1_score: 0.8175 - val_MatthewsCorrelationCoefficient: 0.5879\n"
          ],
          "name": "stdout"
        }
      ]
    },
    {
      "cell_type": "markdown",
      "metadata": {
        "id": "tnHAF_XtAtz2"
      },
      "source": [
        "## Create and train the second model, where BERT weights are not frozen"
      ]
    },
    {
      "cell_type": "code",
      "metadata": {
        "colab": {
          "base_uri": "https://localhost:8080/"
        },
        "id": "xx4hpOV6L3ld",
        "outputId": "8335ecc4-a805-4dd0-a8a5-33c977d9a336"
      },
      "source": [
        "# RE-load the BERT model (reset weights)\n",
        "bert = hub.KerasLayer(BERT_URL, name='BERT', trainable=True)\n"
      ],
      "execution_count": 62,
      "outputs": [
        {
          "output_type": "stream",
          "text": [
            "WARNING:tensorflow:7 out of the last 7 calls to <function recreate_function.<locals>.restored_function_body at 0x7f2e1d2ff9d8> triggered tf.function retracing. Tracing is expensive and the excessive number of tracings could be due to (1) creating @tf.function repeatedly in a loop, (2) passing tensors with different shapes, (3) passing Python objects instead of tensors. For (1), please define your @tf.function outside of the loop. For (2), @tf.function has experimental_relax_shapes=True option that relaxes argument shapes that can avoid unnecessary retracing. For (3), please refer to https://www.tensorflow.org/tutorials/customization/performance#python_or_tensor_args and https://www.tensorflow.org/api_docs/python/tf/function for  more details.\n"
          ],
          "name": "stdout"
        },
        {
          "output_type": "stream",
          "text": [
            "WARNING:tensorflow:7 out of the last 7 calls to <function recreate_function.<locals>.restored_function_body at 0x7f2e1d2ff9d8> triggered tf.function retracing. Tracing is expensive and the excessive number of tracings could be due to (1) creating @tf.function repeatedly in a loop, (2) passing tensors with different shapes, (3) passing Python objects instead of tensors. For (1), please define your @tf.function outside of the loop. For (2), @tf.function has experimental_relax_shapes=True option that relaxes argument shapes that can avoid unnecessary retracing. For (3), please refer to https://www.tensorflow.org/tutorials/customization/performance#python_or_tensor_args and https://www.tensorflow.org/api_docs/python/tf/function for  more details.\n"
          ],
          "name": "stderr"
        },
        {
          "output_type": "stream",
          "text": [
            "WARNING:tensorflow:8 out of the last 8 calls to <function recreate_function.<locals>.restored_function_body at 0x7f2e1d2ffea0> triggered tf.function retracing. Tracing is expensive and the excessive number of tracings could be due to (1) creating @tf.function repeatedly in a loop, (2) passing tensors with different shapes, (3) passing Python objects instead of tensors. For (1), please define your @tf.function outside of the loop. For (2), @tf.function has experimental_relax_shapes=True option that relaxes argument shapes that can avoid unnecessary retracing. For (3), please refer to https://www.tensorflow.org/tutorials/customization/performance#python_or_tensor_args and https://www.tensorflow.org/api_docs/python/tf/function for  more details.\n"
          ],
          "name": "stdout"
        },
        {
          "output_type": "stream",
          "text": [
            "WARNING:tensorflow:8 out of the last 8 calls to <function recreate_function.<locals>.restored_function_body at 0x7f2e1d2ffea0> triggered tf.function retracing. Tracing is expensive and the excessive number of tracings could be due to (1) creating @tf.function repeatedly in a loop, (2) passing tensors with different shapes, (3) passing Python objects instead of tensors. For (1), please define your @tf.function outside of the loop. For (2), @tf.function has experimental_relax_shapes=True option that relaxes argument shapes that can avoid unnecessary retracing. For (3), please refer to https://www.tensorflow.org/tutorials/customization/performance#python_or_tensor_args and https://www.tensorflow.org/api_docs/python/tf/function for  more details.\n"
          ],
          "name": "stderr"
        }
      ]
    },
    {
      "cell_type": "code",
      "metadata": {
        "colab": {
          "base_uri": "https://localhost:8080/"
        },
        "id": "ZNr5EwCnrRg6",
        "outputId": "867966a4-3559-4548-be9e-c8aacc17496e"
      },
      "source": [
        "# now what if we allow all weights in the model to be fine tunes\n",
        "def create_model_2():\n",
        "  bert.trainable = True\n",
        "  text_input = tf.keras.layers.Input(shape=(), dtype=tf.string, name='text_input')\n",
        "  preprocessed_text = prep(text_input)\n",
        "  bert_out = bert(preprocessed_text)\n",
        "  cls_token_out = tf.keras.layers.Lambda(\n",
        "      lambda x: x['sequence_output'][:,0,:], name='get_cls_embedding')(bert_out)\n",
        "  drop = tf.keras.layers.Dropout(0.3)(cls_token_out)\n",
        "  out = tf.keras.layers.Dense(units=1, activation='sigmoid', name='output')(drop)\n",
        "\n",
        "  return tf.keras.Model(inputs=[text_input], outputs=[out])\n",
        "\n",
        "m2 = create_model_2()\n",
        "m2.compile(optimizer=tf.keras.optimizers.Adam(learning_rate=learning_rate_slow),\n",
        "          loss=tf.keras.losses.BinaryCrossentropy(),\n",
        "          metrics=['accuracy', 'AUC', tfa.metrics.F1Score(num_classes=1), tfa.metrics.MatthewsCorrelationCoefficient(num_classes=1)])\n",
        "m2.summary()"
      ],
      "execution_count": 67,
      "outputs": [
        {
          "output_type": "stream",
          "text": [
            "Model: \"functional_27\"\n",
            "__________________________________________________________________________________________________\n",
            "Layer (type)                    Output Shape         Param #     Connected to                     \n",
            "==================================================================================================\n",
            "text_input (InputLayer)         [(None,)]            0                                            \n",
            "__________________________________________________________________________________________________\n",
            "BERT_PREPROCESSOR (KerasLayer)  {'input_mask': (None 0           text_input[0][0]                 \n",
            "__________________________________________________________________________________________________\n",
            "BERT (KerasLayer)               {'sequence_output':  109482241   BERT_PREPROCESSOR[2][0]          \n",
            "                                                                 BERT_PREPROCESSOR[2][1]          \n",
            "                                                                 BERT_PREPROCESSOR[2][2]          \n",
            "__________________________________________________________________________________________________\n",
            "get_cls_embedding (Lambda)      (None, 768)          0           BERT[2][0]                       \n",
            "                                                                 BERT[2][1]                       \n",
            "                                                                 BERT[2][2]                       \n",
            "                                                                 BERT[2][3]                       \n",
            "                                                                 BERT[2][4]                       \n",
            "                                                                 BERT[2][5]                       \n",
            "                                                                 BERT[2][6]                       \n",
            "                                                                 BERT[2][7]                       \n",
            "                                                                 BERT[2][8]                       \n",
            "                                                                 BERT[2][9]                       \n",
            "                                                                 BERT[2][10]                      \n",
            "                                                                 BERT[2][11]                      \n",
            "                                                                 BERT[2][12]                      \n",
            "                                                                 BERT[2][13]                      \n",
            "                                                                 BERT[2][14]                      \n",
            "__________________________________________________________________________________________________\n",
            "dropout_13 (Dropout)            (None, 768)          0           get_cls_embedding[0][0]          \n",
            "__________________________________________________________________________________________________\n",
            "output (Dense)                  (None, 1)            769         dropout_13[0][0]                 \n",
            "==================================================================================================\n",
            "Total params: 109,483,010\n",
            "Trainable params: 109,483,009\n",
            "Non-trainable params: 1\n",
            "__________________________________________________________________________________________________\n"
          ],
          "name": "stdout"
        }
      ]
    },
    {
      "cell_type": "code",
      "metadata": {
        "colab": {
          "base_uri": "https://localhost:8080/"
        },
        "id": "xuytGv1irlB8",
        "outputId": "76596780-0508-4b95-ca7b-558138842919"
      },
      "source": [
        "history2 = m2.fit(cola_train_1, epochs=3, validation_data=cola_valid_1)"
      ],
      "execution_count": 68,
      "outputs": [
        {
          "output_type": "stream",
          "text": [
            "Epoch 1/3\n",
            "268/268 [==============================] - 236s 881ms/step - loss: 0.1914 - accuracy: 0.9268 - auc: 0.9712 - f1_score: 0.8265 - MatthewsCorrelationCoefficient: 0.5934 - val_loss: 0.6156 - val_accuracy: 0.8121 - val_auc: 0.8821 - val_f1_score: 0.8175 - val_MatthewsCorrelationCoefficient: 0.5879\n",
            "Epoch 2/3\n",
            "268/268 [==============================] - 242s 901ms/step - loss: 0.1191 - accuracy: 0.9590 - auc: 0.9878 - f1_score: 0.8265 - MatthewsCorrelationCoefficient: 0.5934 - val_loss: 0.6709 - val_accuracy: 0.8178 - val_auc: 0.8685 - val_f1_score: 0.8175 - val_MatthewsCorrelationCoefficient: 0.5879\n",
            "Epoch 3/3\n",
            "268/268 [==============================] - 243s 908ms/step - loss: 0.0942 - accuracy: 0.9678 - auc: 0.9919 - f1_score: 0.8265 - MatthewsCorrelationCoefficient: 0.5934 - val_loss: 0.6583 - val_accuracy: 0.8313 - val_auc: 0.8693 - val_f1_score: 0.8175 - val_MatthewsCorrelationCoefficient: 0.5879\n"
          ],
          "name": "stdout"
        }
      ]
    },
    {
      "cell_type": "markdown",
      "metadata": {
        "id": "HfJUPuPuBHX8"
      },
      "source": [
        "## Compare the results for first two models on validation set"
      ]
    },
    {
      "cell_type": "code",
      "metadata": {
        "id": "rrEM51xfyLL0"
      },
      "source": [
        "hist_1 = pd.DataFrame(history1.history)\n",
        "hist_2 = pd.DataFrame(history2.history)\n",
        "hist = hist_1.join(hist_2, lsuffix='_freeze_bert')\n",
        "# hist.loc[:,[x for x in hist.columns if (x.startswith('loss') | x.startswith('val_loss'))]].plot()\n"
      ],
      "execution_count": 69,
      "outputs": []
    },
    {
      "cell_type": "code",
      "metadata": {
        "colab": {
          "base_uri": "https://localhost:8080/",
          "height": 827
        },
        "id": "plpNAMD6zHE5",
        "outputId": "ec2728a3-9693-4e9e-c866-6d0d9d2f5650"
      },
      "source": [
        "# compare the validation loss, accuracy and AUC for the two models\n",
        "hist.loc[:, [x for x in hist.columns if (x.startswith('val_auc') | x.startswith('auc'))]].plot(title='AUC')\n",
        "hist.loc[:, [x for x in hist.columns if (x.startswith('val_loss') | x.startswith('loss'))]].plot(title=\"Loss\")\n",
        "hist.loc[:, [x for x in hist.columns if (x.startswith('val_acc') | x.startswith('acc'))]].plot(title=\"Loss\")"
      ],
      "execution_count": 71,
      "outputs": [
        {
          "output_type": "execute_result",
          "data": {
            "text/plain": [
              "<matplotlib.axes._subplots.AxesSubplot at 0x7f2ddb412978>"
            ]
          },
          "metadata": {
            "tags": []
          },
          "execution_count": 71
        },
        {
          "output_type": "display_data",
          "data": {
            "image/png": "[encoded data removed]",
            "text/plain": [
              "<Figure size 432x288 with 1 Axes>"
            ]
          },
          "metadata": {
            "tags": [],
            "needs_background": "light"
          }
        },
        {
          "output_type": "display_data",
          "data": {
            "image/png": "[encoded data removed]",
            "text/plain": [
              "<Figure size 432x288 with 1 Axes>"
            ]
          },
          "metadata": {
            "tags": [],
            "needs_background": "light"
          }
        },
        {
          "output_type": "display_data",
          "data": {
            "image/png": "[encoded data removed]",
            "text/plain": [
              "<Figure size 432x288 with 1 Axes>"
            ]
          },
          "metadata": {
            "tags": [],
            "needs_background": "light"
          }
        }
      ]
    },
    {
      "cell_type": "markdown",
      "metadata": {
        "id": "ecUIVkzeUBS2"
      },
      "source": [
        "Looks like if you care more about AUC and accuracy, would choose the full model, but if you care more about cross entropy, you would choose the model where bert is frozen.\n",
        "\n",
        "I guess this means the freeze bert model is just being more confident in one of the two classes to get the loss score up, but not so good at selecting the bad grammar sentences? Should create a confusion matrix to understand better.\n",
        "\n",
        "The dataset is not balanced, so be careful when looking at accuracy. (see below)\n"
      ]
    },
    {
      "cell_type": "code",
      "metadata": {
        "id": "d5Z8GXY3wOeM",
        "colab": {
          "base_uri": "https://localhost:8080/"
        },
        "outputId": "e363f5b0-ffab-4e7b-96e1-bd215e84a0c4"
      },
      "source": [
        "# check out the balance of the dataset \n",
        "labels = []\n",
        "for _, lab in cola_train.as_numpy_iterator():\n",
        "    labels += lab.tolist()\n",
        "labels = pd.DataFrame(labels, columns=['label'])\n",
        "(labels == 1).sum().values / labels.shape[0], (labels == 0).sum().values / labels.shape[0]"
      ],
      "execution_count": 74,
      "outputs": [
        {
          "output_type": "execute_result",
          "data": {
            "text/plain": [
              "(array([0.70436206]), array([0.29563794]))"
            ]
          },
          "metadata": {
            "tags": []
          },
          "execution_count": 74
        }
      ]
    }
  ]
}
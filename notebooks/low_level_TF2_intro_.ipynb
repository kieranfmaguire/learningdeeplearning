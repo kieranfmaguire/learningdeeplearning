{
 "metadata": {
  "language_info": {
   "codemirror_mode": {
    "name": "ipython",
    "version": 3
   },
   "file_extension": ".py",
   "mimetype": "text/x-python",
   "name": "python",
   "nbconvert_exporter": "python",
   "pygments_lexer": "ipython3",
   "version": "3.8.5-final"
  },
  "orig_nbformat": 2,
  "kernelspec": {
   "name": "python3",
   "display_name": "Python 3"
  }
 },
 "nbformat": 4,
 "nbformat_minor": 2,
 "cells": [
  {
   "cell_type": "code",
   "execution_count": 1,
   "metadata": {},
   "outputs": [],
   "source": [
    "import tensorflow as tf"
   ]
  },
  {
   "source": [
    "## Low level API for TF2\n",
    "---\n",
    "Very similar to `torch` - essentially create arrays that behave similar to numpy arrays (called _tensors_), but have the benefit of GPU/TPU support, and most importantly have autograd functionality.\n",
    "\n",
    "Main modules for the low level API:\n",
    "\n",
    " - `tf.math`\n",
    " - `tf.linalg`\n",
    " - `tf.signal`\n",
    " - `tf.random`\n",
    " - `tf.bitwise`"
   ],
   "cell_type": "markdown",
   "metadata": {}
  },
  {
   "source": [
    "### Creating tensors and basic operations"
   ],
   "cell_type": "markdown",
   "metadata": {}
  },
  {
   "cell_type": "code",
   "execution_count": 39,
   "metadata": {},
   "outputs": [
    {
     "output_type": "stream",
     "name": "stdout",
     "text": [
      "tf.Tensor(\n[[1. 2. 3.]\n [4. 5. 6.]], shape=(2, 3), dtype=float32)\nShape of tensor: (2, 3)\nDtype of tensor: <dtype: 'float32'>\nData as numpy array is:\n[[1. 2. 3.]\n [4. 5. 6.]]\ntf.Tensor(\n[[2. 3.]\n [5. 6.]], shape=(2, 2), dtype=float32)\ntf.Tensor(\n[[ 6.  7.  8.]\n [ 9. 10. 11.]], shape=(2, 3), dtype=float32)\ntf.Tensor(\n[[ 6.  7.  8.]\n [ 9. 10. 11.]], shape=(2, 3), dtype=float32)\ntf.Tensor(\n[[ 1.  4.  9.]\n [16. 25. 36.]], shape=(2, 3), dtype=float32)\ntf.Tensor(\n[[ 1.  4.  9.]\n [16. 25. 36.]], shape=(2, 3), dtype=float32)\ntf.Tensor(\n[[14. 32.]\n [32. 77.]], shape=(2, 2), dtype=float32)\ntf.Tensor(\n[[14. 32.]\n [32. 77.]], shape=(2, 2), dtype=float32)\n"
     ]
    }
   ],
   "source": [
    "# create a basic tensor using tf.constant. Same syntax as numpy\n",
    "# note that tf.constant are immutable -> cannot use them as weights in a network\n",
    "t = tf.constant([[1., 2., 3.], [4., 5., 6.]])\n",
    "print(t)\n",
    "\n",
    "# tensors have .shape, .dtype attributes\n",
    "print(f\"Shape of tensor: {t.shape}\")\n",
    "print(f\"Dtype of tensor: {t.dtype}\")\n",
    "\n",
    "# can get the underlying data back as numpy array with\n",
    "print(f\"Data as numpy array is:\\n{t.numpy()}\")\n",
    "\n",
    "# indexing works like numpy\n",
    "print(t[:,1:])\n",
    "\n",
    "# many of the usual operators are overloaded to work on tensors also\n",
    "# eg plus just calls the function tf.add, similar for square\n",
    "print(t + 5)\n",
    "print(tf.add(t, 5))\n",
    "\n",
    "print(t ** 2)\n",
    "print(tf.square(t))\n",
    "\n",
    "# matrix multiplication\n",
    "print(t @ tf.transpose(t))\n",
    "print(tf.matmul(t, tf.transpose(t)))\n",
    "\n",
    "# some differences\n",
    "###################\n",
    "\n",
    "# in TF, np.mean -> tf.reduce_mean, np.sum -> tf.reduce_sum, np.max -> tf.reduce_max, np.log -> tf.math.log"
   ]
  },
  {
   "source": [
    "### TF variables\n",
    "These are just mutable versions of tensors above, so can be used for weights and other things that may need to change."
   ],
   "cell_type": "markdown",
   "metadata": {}
  },
  {
   "cell_type": "code",
   "execution_count": 48,
   "metadata": {},
   "outputs": [
    {
     "output_type": "stream",
     "name": "stdout",
     "text": [
      "<tf.Variable 'Variable:0' shape=(2, 3) dtype=float32, numpy=\narray([[1., 2., 3.],\n       [4., 5., 6.]], dtype=float32)>\n<tf.Variable 'Variable:0' shape=(2, 3) dtype=float32, numpy=\narray([[ 2.,  4.,  6.],\n       [ 8., 10., 12.]], dtype=float32)>\n"
     ]
    }
   ],
   "source": [
    "# can create variables from tensors, or with constructor syntax like numpy\n",
    "v = tf.Variable(t)\n",
    "print(v)\n",
    "\n",
    "# now we can assign to it\n",
    "v.assign(2*v)\n",
    "# note assign operator is inplace!\n",
    "print(v)\n",
    "\n",
    "\n"
   ]
  }
 ]
}
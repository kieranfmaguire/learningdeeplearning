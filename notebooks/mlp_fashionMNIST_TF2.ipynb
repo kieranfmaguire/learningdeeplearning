{
 "cells": [
  {
   "cell_type": "markdown",
   "metadata": {},
   "source": [
    "### MLP to classify fashion MNIST dataset\n",
    "\n",
    "Following example from Chapter 10 of _Hands on Machine Learning with Scikit-Learn, Keras and TensorFlow, 2nd ed_"
   ]
  },
  {
   "cell_type": "code",
   "execution_count": 22,
   "metadata": {},
   "outputs": [
    {
     "data": {
      "text/plain": [
       "'2.2.0'"
      ]
     },
     "execution_count": 22,
     "metadata": {},
     "output_type": "execute_result"
    }
   ],
   "source": [
    "import tensorflow as tf\n",
    "from tensorflow import keras\n",
    "tf.__version__"
   ]
  },
  {
   "cell_type": "code",
   "execution_count": 23,
   "metadata": {},
   "outputs": [],
   "source": [
    "# get data using keras utility\n",
    "# this contains 60,000 28 x 28 ndarrays with values between 0 and 255, representing pixel intensities\n",
    "fashion_mnist = keras.datasets.fashion_mnist\n",
    "(x_train_full, y_train_full), (x_test, y_test) = fashion_mnist.load_data()\n",
    "\n",
    "# split train full into train and valid, and normalise so input is float between 0 and 1\n",
    "x_valid, x_train = x_train_full[:5000] / 255.0, x_train_full[5000:] / 255.0\n",
    "y_valid, y_train = y_train_full[:5000], y_train_full[5000:]\n",
    "\n",
    "# manually type out the class names \n",
    "class_names = ['T-shirt/top', 'Trouser', 'Pullover', 'Dress', 'Coat', 'Sandal', 'Shirt', 'Sneaker', 'Bag', 'Ankle boot']"
   ]
  },
  {
   "cell_type": "code",
   "execution_count": 25,
   "metadata": {},
   "outputs": [
    {
     "name": "stdout",
     "output_type": "stream",
     "text": [
      "Model: \"sequential_5\"\n",
      "_________________________________________________________________\n",
      "Layer (type)                 Output Shape              Param #   \n",
      "=================================================================\n",
      "flatten_5 (Flatten)          (None, 784)               0         \n",
      "_________________________________________________________________\n",
      "dense_15 (Dense)             (None, 300)               235500    \n",
      "_________________________________________________________________\n",
      "dense_16 (Dense)             (None, 100)               30100     \n",
      "_________________________________________________________________\n",
      "dense_17 (Dense)             (None, 10)                1010      \n",
      "=================================================================\n",
      "Total params: 266,610\n",
      "Trainable params: 266,610\n",
      "Non-trainable params: 0\n",
      "_________________________________________________________________\n"
     ]
    }
   ],
   "source": [
    "# next specify a simple sequential model using keras api\n",
    "\n",
    "model = keras.models.Sequential()\n",
    "model.add(keras.layers.Flatten(input_shape=x_train[0].shape))\n",
    "model.add(keras.layers.Dense(300, activation='relu'))\n",
    "model.add(keras.layers.Dense(100, activation='relu'))\n",
    "model.add(keras.layers.Dense(len(class_names), activation='softmax'))\n",
    "\n",
    "# check the summary\n",
    "model.summary()\n",
    "\n",
    "# look at layers\n",
    "model.layers\n",
    "\n",
    "# compile the model and specify the loss function\n",
    "model.compile(\n",
    "    loss=\"sparse_categorical_crossentropy\",\n",
    "    optimizer=\"sgd\",\n",
    "    metrics=[\"accuracy\"]\n",
    "    )"
   ]
  },
  {
   "cell_type": "code",
   "execution_count": 26,
   "metadata": {},
   "outputs": [
    {
     "name": "stdout",
     "output_type": "stream",
     "text": [
      "Epoch 1/30\n",
      "1719/1719 [==============================] - 31s 18ms/step - loss: 0.7246 - accuracy: 0.7621 - val_loss: 0.5285 - val_accuracy: 0.8188\n",
      "Epoch 2/30\n",
      "1719/1719 [==============================] - 34s 20ms/step - loss: 0.4897 - accuracy: 0.8303 - val_loss: 0.4509 - val_accuracy: 0.8462\n",
      "Epoch 3/30\n",
      "1719/1719 [==============================] - 31s 18ms/step - loss: 0.4457 - accuracy: 0.8443 - val_loss: 0.4284 - val_accuracy: 0.8572\n",
      "Epoch 4/30\n",
      "1719/1719 [==============================] - 33s 19ms/step - loss: 0.4181 - accuracy: 0.8542 - val_loss: 0.3955 - val_accuracy: 0.8636\n",
      "Epoch 5/30\n",
      "1719/1719 [==============================] - 32s 19ms/step - loss: 0.3988 - accuracy: 0.8595 - val_loss: 0.3818 - val_accuracy: 0.8672\n",
      "Epoch 6/30\n",
      "1719/1719 [==============================] - 31s 18ms/step - loss: 0.3819 - accuracy: 0.8655 - val_loss: 0.3793 - val_accuracy: 0.8704\n",
      "Epoch 7/30\n",
      "1719/1719 [==============================] - 30s 18ms/step - loss: 0.3683 - accuracy: 0.8693 - val_loss: 0.3629 - val_accuracy: 0.8746\n",
      "Epoch 8/30\n",
      "1719/1719 [==============================] - 31s 18ms/step - loss: 0.3568 - accuracy: 0.8732 - val_loss: 0.3721 - val_accuracy: 0.8696\n",
      "Epoch 9/30\n",
      "1719/1719 [==============================] - 34s 20ms/step - loss: 0.3456 - accuracy: 0.8778 - val_loss: 0.3464 - val_accuracy: 0.8790\n",
      "Epoch 10/30\n",
      "1719/1719 [==============================] - 31s 18ms/step - loss: 0.3369 - accuracy: 0.8805 - val_loss: 0.3497 - val_accuracy: 0.8772\n",
      "Epoch 11/30\n",
      "1719/1719 [==============================] - 30s 17ms/step - loss: 0.3282 - accuracy: 0.8834 - val_loss: 0.3562 - val_accuracy: 0.8732\n",
      "Epoch 12/30\n",
      "1719/1719 [==============================] - 37s 21ms/step - loss: 0.3210 - accuracy: 0.8857 - val_loss: 0.3289 - val_accuracy: 0.8854\n",
      "Epoch 13/30\n",
      "1719/1719 [==============================] - 33s 19ms/step - loss: 0.3125 - accuracy: 0.8883 - val_loss: 0.3605 - val_accuracy: 0.8670\n",
      "Epoch 14/30\n",
      "1719/1719 [==============================] - 33s 19ms/step - loss: 0.3062 - accuracy: 0.8888 - val_loss: 0.3265 - val_accuracy: 0.8838\n",
      "Epoch 15/30\n",
      "1719/1719 [==============================] - 29s 17ms/step - loss: 0.2993 - accuracy: 0.8924 - val_loss: 0.3261 - val_accuracy: 0.8826\n",
      "Epoch 16/30\n",
      "1719/1719 [==============================] - 28s 17ms/step - loss: 0.2933 - accuracy: 0.8944 - val_loss: 0.3301 - val_accuracy: 0.8824\n",
      "Epoch 17/30\n",
      "1719/1719 [==============================] - 39s 23ms/step - loss: 0.2874 - accuracy: 0.8959 - val_loss: 0.3163 - val_accuracy: 0.8898\n",
      "Epoch 18/30\n",
      "1719/1719 [==============================] - 33s 19ms/step - loss: 0.2821 - accuracy: 0.8987 - val_loss: 0.3154 - val_accuracy: 0.8864\n",
      "Epoch 19/30\n",
      "1719/1719 [==============================] - 28s 16ms/step - loss: 0.2765 - accuracy: 0.9010 - val_loss: 0.3223 - val_accuracy: 0.8838\n",
      "Epoch 20/30\n",
      "1719/1719 [==============================] - 34s 20ms/step - loss: 0.2719 - accuracy: 0.9006 - val_loss: 0.3026 - val_accuracy: 0.8926\n",
      "Epoch 21/30\n",
      "1719/1719 [==============================] - 31s 18ms/step - loss: 0.2667 - accuracy: 0.9037 - val_loss: 0.3053 - val_accuracy: 0.8904\n",
      "Epoch 22/30\n",
      "1719/1719 [==============================] - 32s 19ms/step - loss: 0.2612 - accuracy: 0.9054 - val_loss: 0.3110 - val_accuracy: 0.8898\n",
      "Epoch 23/30\n",
      "1719/1719 [==============================] - 29s 17ms/step - loss: 0.2571 - accuracy: 0.9069 - val_loss: 0.3086 - val_accuracy: 0.8906\n",
      "Epoch 24/30\n",
      "1719/1719 [==============================] - 28s 16ms/step - loss: 0.2525 - accuracy: 0.9089 - val_loss: 0.3044 - val_accuracy: 0.8910\n",
      "Epoch 25/30\n",
      "1719/1719 [==============================] - 28s 16ms/step - loss: 0.2488 - accuracy: 0.9104 - val_loss: 0.3029 - val_accuracy: 0.8932\n",
      "Epoch 26/30\n",
      "1719/1719 [==============================] - 32s 19ms/step - loss: 0.2446 - accuracy: 0.9109 - val_loss: 0.3046 - val_accuracy: 0.8884\n",
      "Epoch 27/30\n",
      "1719/1719 [==============================] - 29s 17ms/step - loss: 0.2399 - accuracy: 0.9144 - val_loss: 0.3311 - val_accuracy: 0.8776\n",
      "Epoch 28/30\n",
      "1719/1719 [==============================] - 29s 17ms/step - loss: 0.2363 - accuracy: 0.9138 - val_loss: 0.2987 - val_accuracy: 0.8952\n",
      "Epoch 29/30\n",
      "1719/1719 [==============================] - 30s 17ms/step - loss: 0.2321 - accuracy: 0.9154 - val_loss: 0.3167 - val_accuracy: 0.8854\n",
      "Epoch 30/30\n",
      "1719/1719 [==============================] - 31s 18ms/step - loss: 0.2292 - accuracy: 0.9179 - val_loss: 0.2944 - val_accuracy: 0.8938\n"
     ]
    }
   ],
   "source": [
    "# now train the model and record the metrics\n",
    "\n",
    "history = model.fit(x=x_train, y=y_train, epochs=30, validation_data=(x_valid, y_valid))"
   ]
  }
 ],
 "metadata": {
  "kernelspec": {
   "display_name": "Python 3",
   "language": "python",
   "name": "python3"
  },
  "language_info": {
   "codemirror_mode": {
    "name": "ipython",
    "version": 3
   },
   "file_extension": ".py",
   "mimetype": "text/x-python",
   "name": "python",
   "nbconvert_exporter": "python",
   "pygments_lexer": "ipython3",
   "version": "3.8.5"
  }
 },
 "nbformat": 4,
 "nbformat_minor": 4
}

{
 "cells": [
  {
   "cell_type": "markdown",
   "metadata": {},
   "source": [
    "# MLP to classify fashion MNIST dataset\n",
    "---\n",
    "Following example from Chapter 10 of _Hands on Machine Learning with Scikit-Learn, Keras and TensorFlow, 2nd ed_"
   ]
  },
  {
   "cell_type": "code",
   "execution_count": 18,
   "metadata": {},
   "outputs": [
    {
     "data": {
      "text/plain": [
       "'2.2.0'"
      ]
     },
     "execution_count": 18,
     "metadata": {},
     "output_type": "execute_result"
    }
   ],
   "source": [
    "import tensorflow as tf\n",
    "from tensorflow import keras\n",
    "import matplotlib.pyplot as plt\n",
    "tf.__version__"
   ]
  },
  {
   "cell_type": "markdown",
   "metadata": {},
   "source": [
    "## Load the data\n",
    "---"
   ]
  },
  {
   "cell_type": "code",
   "execution_count": 2,
   "metadata": {},
   "outputs": [],
   "source": [
    "# get data using keras utility\n",
    "# this contains 60,000 28 x 28 ndarrays with values between 0 and 255, representing pixel intensities\n",
    "fashion_mnist = keras.datasets.fashion_mnist\n",
    "(x_train_full, y_train_full), (x_test, y_test) = fashion_mnist.load_data()\n",
    "\n",
    "# split train full into train and valid, and normalise so input is float between 0 and 1\n",
    "x_valid, x_train = x_train_full[:5000] / 255.0, x_train_full[5000:] / 255.0\n",
    "y_valid, y_train = y_train_full[:5000], y_train_full[5000:]\n",
    "\n",
    "# manually type out the class names \n",
    "class_names = ['T-shirt/top', 'Trouser', 'Pullover', 'Dress', 'Coat', 'Sandal', 'Shirt', 'Sneaker', 'Bag', 'Ankle boot']"
   ]
  },
  {
   "cell_type": "markdown",
   "metadata": {},
   "source": [
    "## Set up model using high level API `keras.models.Sequential`\n",
    "---\n",
    "This API is highest level, main steps are\n",
    "1. Define the model structure by passing `keras.layers` to the `keras.models.Sequential` constructor\n",
    "2. Specify the loss function and optimizer to be used for model training, and any extra metrics that we want to keep track of during training\n",
    "3. Compile the model\n",
    "4. Train the model"
   ]
  },
  {
   "cell_type": "code",
   "execution_count": 10,
   "metadata": {},
   "outputs": [
    {
     "name": "stdout",
     "output_type": "stream",
     "text": [
      "Model: \"sequential_4\"\n",
      "_________________________________________________________________\n",
      "Layer (type)                 Output Shape              Param #   \n",
      "=================================================================\n",
      "flatten_4 (Flatten)          (None, 784)               0         \n",
      "_________________________________________________________________\n",
      "dense_12 (Dense)             (None, 300)               235500    \n",
      "_________________________________________________________________\n",
      "dense_13 (Dense)             (None, 100)               30100     \n",
      "_________________________________________________________________\n",
      "dense_14 (Dense)             (None, 10)                1010      \n",
      "=================================================================\n",
      "Total params: 266,610\n",
      "Trainable params: 266,610\n",
      "Non-trainable params: 0\n",
      "_________________________________________________________________\n"
     ]
    }
   ],
   "source": [
    "# next specify a simple sequential model using keras api\n",
    "\n",
    "model = keras.models.Sequential()\n",
    "model.add(keras.layers.Flatten(input_shape=x_train[0].shape))\n",
    "model.add(keras.layers.Dense(300, activation='relu'))\n",
    "model.add(keras.layers.Dense(100, activation='relu'))\n",
    "model.add(keras.layers.Dense(len(class_names), activation='softmax'))\n",
    "\n",
    "# compile the model and specify the loss function\n",
    "model.compile(\n",
    "    loss=keras.losses.SparseCategoricalCrossentropy(),\n",
    "    optimizer=keras.optimizers.SGD(learning_rate=0.1),\n",
    "    metrics=[\"accuracy\"]\n",
    "    )\n",
    "\n",
    "# check the summary\n",
    "model.summary()\n"
   ]
  },
  {
   "cell_type": "code",
   "execution_count": 16,
   "metadata": {},
   "outputs": [
    {
     "name": "stdout",
     "output_type": "stream",
     "text": [
      "Epoch 1/10\n",
      "430/430 [==============================] - 14s 32ms/step - loss: 0.4469 - accuracy: 0.8395 - val_loss: 0.4113 - val_accuracy: 0.8498\n",
      "Epoch 2/10\n",
      "430/430 [==============================] - 14s 33ms/step - loss: 0.3962 - accuracy: 0.8568 - val_loss: 0.3959 - val_accuracy: 0.8568\n",
      "Epoch 3/10\n",
      "430/430 [==============================] - 14s 33ms/step - loss: 0.3680 - accuracy: 0.8656 - val_loss: 0.3682 - val_accuracy: 0.8660\n",
      "Epoch 4/10\n",
      "430/430 [==============================] - 15s 36ms/step - loss: 0.3477 - accuracy: 0.8723 - val_loss: 0.3591 - val_accuracy: 0.8742\n",
      "Epoch 5/10\n",
      "430/430 [==============================] - 14s 34ms/step - loss: 0.3313 - accuracy: 0.8787 - val_loss: 0.3380 - val_accuracy: 0.8730\n",
      "Epoch 6/10\n",
      "430/430 [==============================] - 14s 32ms/step - loss: 0.3164 - accuracy: 0.8837 - val_loss: 0.3448 - val_accuracy: 0.8756\n",
      "Epoch 7/10\n",
      "430/430 [==============================] - 14s 33ms/step - loss: 0.3038 - accuracy: 0.8884 - val_loss: 0.3150 - val_accuracy: 0.8858\n",
      "Epoch 8/10\n",
      "430/430 [==============================] - 14s 34ms/step - loss: 0.2936 - accuracy: 0.8926 - val_loss: 0.3342 - val_accuracy: 0.8766\n",
      "Epoch 9/10\n",
      "430/430 [==============================] - 14s 33ms/step - loss: 0.2833 - accuracy: 0.8954 - val_loss: 0.3446 - val_accuracy: 0.8770\n",
      "Epoch 10/10\n",
      "430/430 [==============================] - 15s 35ms/step - loss: 0.2734 - accuracy: 0.9002 - val_loss: 0.3175 - val_accuracy: 0.8836\n"
     ]
    }
   ],
   "source": [
    "# now train the model and record the metrics\n",
    "history = model.fit(x=x_train, y=y_train, batch_size=128, epochs=10, validation_data=(x_valid, y_valid))"
   ]
  },
  {
   "cell_type": "code",
   "execution_count": 20,
   "metadata": {},
   "outputs": [
    {
     "data": {
      "text/plain": [
       "<matplotlib.legend.Legend at 0x7f5050a67d60>"
      ]
     },
     "execution_count": 20,
     "metadata": {},
     "output_type": "execute_result"
    },
    {
     "data": {
      "image/png": "[encoded data removed]",
      "text/plain": [
       "<Figure size 432x288 with 1 Axes>"
      ]
     },
     "metadata": {
      "needs_background": "light"
     },
     "output_type": "display_data"
    }
   ],
   "source": [
    "plt.plot(history.history['accuracy'] , label='accuracy_train')\n",
    "plt.plot(history.history['val_accuracy'] , label='accuracy_valid')\n",
    "plt.legend()"
   ]
  }
 ],
 "metadata": {
  "kernelspec": {
   "display_name": "Python 3",
   "language": "python",
   "name": "python3"
  },
  "language_info": {
   "codemirror_mode": {
    "name": "ipython",
    "version": 3
   },
   "file_extension": ".py",
   "mimetype": "text/x-python",
   "name": "python",
   "nbconvert_exporter": "python",
   "pygments_lexer": "ipython3",
   "version": "3.8.5"
  }
 },
 "nbformat": 4,
 "nbformat_minor": 4
}

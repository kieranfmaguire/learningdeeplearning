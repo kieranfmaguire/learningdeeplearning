{
 "cells": [
  {
   "cell_type": "markdown",
   "metadata": {},
   "source": [
    "# Fashion MNIST using simple MLP, implemented with various pytorch APIs\n",
    "---"
   ]
  },
  {
   "cell_type": "code",
   "execution_count": 51,
   "metadata": {},
   "outputs": [],
   "source": [
    "import torch\n",
    "from torchsummary import summary\n",
    "import numpy as np\n",
    "from tqdm import tqdm\n",
    "from tensorflow.keras.datasets import fashion_mnist\n",
    "import matplotlib.pyplot as plt"
   ]
  },
  {
   "cell_type": "markdown",
   "metadata": {},
   "source": [
    "## Load the data\n",
    "---\n",
    "\n",
    "Note pytorch also has an API for loading and downloading datasets, but keras version used below is more explicit"
   ]
  },
  {
   "cell_type": "code",
   "execution_count": 2,
   "metadata": {},
   "outputs": [
    {
     "name": "stderr",
     "output_type": "stream",
     "text": [
      "<ipython-input-2-9912ac3915da>:9: UserWarning: The given NumPy array is not writeable, and PyTorch does not support non-writeable tensors. This means you can write to the underlying (supposedly non-writeable) NumPy array using the tensor. You may want to copy the array to protect its data or make it writeable before converting it to a tensor. This type of warning will be suppressed for the rest of this program. (Triggered internally at  /opt/conda/conda-bld/pytorch_1603729096996/work/torch/csrc/utils/tensor_numpy.cpp:141.)\n",
      "  x_valid, x_train, x_test = torch.as_tensor(x_valid, dtype=torch.float), torch.as_tensor(x_train, dtype=torch.float), torch.as_tensor(x_test, dtype=torch.float)\n"
     ]
    }
   ],
   "source": [
    "# load the data\n",
    "(x_train_full, y_train_full), (x_test, y_test) = fashion_mnist.load_data()\n",
    "\n",
    "# split train full into train and valid, and normalise so input is float between 0 and 1\n",
    "x_valid, x_train = x_train_full[:5000] / 255.0, x_train_full[5000:] / 255.0\n",
    "y_valid, y_train = y_train_full[:5000], y_train_full[5000:]\n",
    "\n",
    "# currently the data is stored as numpy array - convert to torch.Tensors\n",
    "x_valid, x_train, x_test = torch.as_tensor(x_valid, dtype=torch.float), torch.as_tensor(x_train, dtype=torch.float), torch.as_tensor(x_test, dtype=torch.float)\n",
    "y_valid, y_train, y_test = torch.as_tensor(y_valid, dtype=torch.float), torch.as_tensor(y_train, dtype=torch.long), torch.as_tensor(y_test, dtype=torch.long)\n",
    "\n",
    "# manually type out the class names \n",
    "class_names = ['T-shirt/top', 'Trouser', 'Pullover', 'Dress', 'Coat', 'Sandal', 'Shirt', 'Sneaker', 'Bag', 'Ankle boot']\n",
    "\n",
    "# extract input dims\n",
    "dim_in = x_train[0].shape\n",
    "flat_dim_in = x_train[0].shape[0] ** 2\n",
    "out_dim = len(class_names)"
   ]
  },
  {
   "cell_type": "markdown",
   "metadata": {},
   "source": [
    "## 1. High level `torch.nn` API\n",
    "---\n",
    "This is the high level torch API, similar to Keras for TF. The semantics are\n",
    " 1. First, define the model structure using `torch.nn.Sequential`, by passing in `torch.nn.Modules`\n",
    "     - `torch.nn.Modules` are simply layers that have `.forward` and `.backward` methods\n",
    " 2. Define the loss function. Many popular loss functions are available as `torch.nn.Modules` (although you can subclass to define your own if you like)\n",
    " 3. Define the optimiser function. Popular optimisers are availabe in `torch.optim`.\n",
    " 4. Set up the training loop:\n",
    "     - Define a function which generates some iterable of batches. Note that pytorch includes utilities to do this, but for clarity we do it explicitly below\n",
    "     - Define function which computes accuracy on the valid_set\n",
    "     - Call the step() method of the optimiser to update the model parameters"
   ]
  },
  {
   "cell_type": "code",
   "execution_count": 54,
   "metadata": {},
   "outputs": [
    {
     "name": "stdout",
     "output_type": "stream",
     "text": [
      "----------------------------------------------------------------\n",
      "        Layer (type)               Output Shape         Param #\n",
      "================================================================\n",
      "           Flatten-1                  [-1, 784]               0\n",
      "            Linear-2                  [-1, 300]         235,500\n",
      "              ReLU-3                  [-1, 300]               0\n",
      "            Linear-4                  [-1, 100]          30,100\n",
      "              ReLU-5                  [-1, 100]               0\n",
      "            Linear-6                   [-1, 10]           1,010\n",
      "           Softmax-7                   [-1, 10]               0\n",
      "================================================================\n",
      "Total params: 266,610\n",
      "Trainable params: 266,610\n",
      "Non-trainable params: 0\n",
      "----------------------------------------------------------------\n",
      "Input size (MB): 0.00\n",
      "Forward/backward pass size (MB): 0.01\n",
      "Params size (MB): 1.02\n",
      "Estimated Total Size (MB): 1.03\n",
      "----------------------------------------------------------------\n"
     ]
    }
   ],
   "source": [
    "# can make the model using toch.nn module\n",
    "\n",
    "# model structure using nn API (simplest version)\n",
    "m = torch.nn.Sequential(\n",
    "        torch.nn.Flatten(),\n",
    "        torch.nn.Linear(784, 300),\n",
    "        torch.nn.ReLU(),\n",
    "        torch.nn.Linear(300, 100),\n",
    "        torch.nn.ReLU(),\n",
    "        torch.nn.Linear(100, out_dim),\n",
    "        torch.nn.Softmax(dim=1)\n",
    "    )\n",
    "\n",
    "# loss function\n",
    "loss = torch.nn.CrossEntropyLoss(reduction='mean')\n",
    "\n",
    "# function to generate minibatches\n",
    "def data_generator(x, y, b):\n",
    "    \"\"\"\n",
    "    generates minibatch from data set x,y of size b. Assumes instances are in the first dimension\n",
    "    \"\"\"\n",
    "    idx = np.random.choice(np.arange(x.shape[0]), size=x.shape[0], replace=False)\n",
    "    x_, y_ = x[idx], y[idx] \n",
    "    num_batches = int(x.shape[0] / b)\n",
    "    if num_batches == 0:\n",
    "        print(f\"Warning, batch size is larger than data. Returning full data.\")\n",
    "        yield x_, y_\n",
    "    for k in range(num_batches):\n",
    "        start, end = k * b, (k + 1) * b\n",
    "        yield x_[start:end], y_[start:end]\n",
    "\n",
    "# utility function to compute accuracy on the valid set\n",
    "def valid_accuracy(model, x_valid, y_valid):\n",
    "    \"\"\"\n",
    "    Return accuracy on validation set\n",
    "    \"\"\"\n",
    "    y_pred = torch.max(model.forward(x_valid), 1)[-1]\n",
    "    return torch.mean((y_pred == y_valid).float())\n",
    "            \n",
    "# function to train using stochastic gradient descent\n",
    "def sgd(model, loss_fn, x, y, batch_size, epochs, learning_rate):\n",
    "    \"\"\"\n",
    "    Perform simple gradient descent \n",
    "    \"\"\"\n",
    "    \n",
    "    # optimiser function\n",
    "    optimiser = torch.optim.SGD(m.parameters(), lr=learning_rate)\n",
    "    \n",
    "    # initialise object to store training history\n",
    "    history = {'loss': [], 'accuracy_train': [], 'accuracy_valid': []}\n",
    "    \n",
    "    for i in range(epochs):\n",
    "        print(f\"Starting epoch number: {i+1}\")      \n",
    "       \n",
    "        # note we could iterate directly on the data generator, but because\n",
    "        # generators have no length, can't use tqdm for progress bar nicely, \n",
    "        # so do it this way to allow for easy progress bar\n",
    "        num_batches = int(x.shape[0] / batch_size)\n",
    "        dg = data_generator(x, y, batch_size)\n",
    "        for j  in tqdm(range(num_batches)):\n",
    "            x_, y_ = next(dg)\n",
    "            y_hat = model(x_)\n",
    "            l = loss_fn(y_hat, y_)\n",
    "            optimiser.zero_grad()\n",
    "            l.backward()\n",
    "            optimiser.step()\n",
    "            \n",
    "            # NOTE: optimiser.step() essentially does same thing as below\n",
    "            # with torch.no_grad():\n",
    "            #     for param in model.parameters():\n",
    "            #         param -= learning_rate * param.grad\n",
    "        acc_train = valid_accuracy(model, x_train, y_train)\n",
    "        acc_valid = valid_accuracy(model, x_valid, y_valid)\n",
    "        history['loss'].append(l.data.numpy())\n",
    "        history['accuracy_train'].append(acc_train)\n",
    "        history['accuracy_valid'].append(acc_valid)\n",
    "        print(f\"Epoch {i+1} complete | train set loss: {l.data.numpy()}, train set accuracy: {acc_train} | valid set accuracy: {acc_valid}\")\n",
    "    \n",
    "    return history\n",
    "\n",
    "# print summary of model\n",
    "summary(m, dim_in)"
   ]
  },
  {
   "cell_type": "code",
   "execution_count": 55,
   "metadata": {},
   "outputs": [
    {
     "name": "stderr",
     "output_type": "stream",
     "text": [
      "  0%|          | 1/429 [00:00<00:45,  9.44it/s]"
     ]
    },
    {
     "name": "stdout",
     "output_type": "stream",
     "text": [
      "Starting epoch number: 1\n"
     ]
    },
    {
     "name": "stderr",
     "output_type": "stream",
     "text": [
      "100%|██████████| 429/429 [00:07<00:00, 60.18it/s]\n",
      "  0%|          | 1/429 [00:00<00:48,  8.80it/s]"
     ]
    },
    {
     "name": "stdout",
     "output_type": "stream",
     "text": [
      "Epoch 1 complete | train set loss: 1.9631543159484863, train set accuracy: 0.5332727432250977 | valid set accuracy: 0.5351999998092651\n",
      "Starting epoch number: 2\n"
     ]
    },
    {
     "name": "stderr",
     "output_type": "stream",
     "text": [
      "100%|██████████| 429/429 [00:06<00:00, 69.81it/s]\n",
      "  1%|          | 3/429 [00:00<00:15, 26.87it/s]"
     ]
    },
    {
     "name": "stdout",
     "output_type": "stream",
     "text": [
      "Epoch 2 complete | train set loss: 1.7694286108016968, train set accuracy: 0.7163636088371277 | valid set accuracy: 0.7149999737739563\n",
      "Starting epoch number: 3\n"
     ]
    },
    {
     "name": "stderr",
     "output_type": "stream",
     "text": [
      "100%|██████████| 429/429 [00:05<00:00, 75.09it/s]\n",
      "  0%|          | 1/429 [00:00<00:52,  8.12it/s]"
     ]
    },
    {
     "name": "stdout",
     "output_type": "stream",
     "text": [
      "Epoch 3 complete | train set loss: 1.7153927087783813, train set accuracy: 0.7654363512992859 | valid set accuracy: 0.769599974155426\n",
      "Starting epoch number: 4\n"
     ]
    },
    {
     "name": "stderr",
     "output_type": "stream",
     "text": [
      "100%|██████████| 429/429 [00:06<00:00, 68.61it/s]\n",
      "  0%|          | 1/429 [00:00<00:51,  8.30it/s]"
     ]
    },
    {
     "name": "stdout",
     "output_type": "stream",
     "text": [
      "Epoch 4 complete | train set loss: 1.699120283126831, train set accuracy: 0.7869454622268677 | valid set accuracy: 0.7897999882698059\n",
      "Starting epoch number: 5\n"
     ]
    },
    {
     "name": "stderr",
     "output_type": "stream",
     "text": [
      "100%|██████████| 429/429 [00:05<00:00, 73.26it/s]\n",
      "  1%|          | 3/429 [00:00<00:15, 27.87it/s]"
     ]
    },
    {
     "name": "stdout",
     "output_type": "stream",
     "text": [
      "Epoch 5 complete | train set loss: 1.7001309394836426, train set accuracy: 0.7918182015419006 | valid set accuracy: 0.7975999712944031\n",
      "Starting epoch number: 6\n"
     ]
    },
    {
     "name": "stderr",
     "output_type": "stream",
     "text": [
      "100%|██████████| 429/429 [00:09<00:00, 44.20it/s]\n",
      "  0%|          | 2/429 [00:00<00:21, 19.98it/s]"
     ]
    },
    {
     "name": "stdout",
     "output_type": "stream",
     "text": [
      "Epoch 6 complete | train set loss: 1.655104398727417, train set accuracy: 0.8004727363586426 | valid set accuracy: 0.807200014591217\n",
      "Starting epoch number: 7\n"
     ]
    },
    {
     "name": "stderr",
     "output_type": "stream",
     "text": [
      "100%|██████████| 429/429 [00:09<00:00, 47.16it/s]\n",
      "  0%|          | 0/429 [00:00<?, ?it/s]"
     ]
    },
    {
     "name": "stdout",
     "output_type": "stream",
     "text": [
      "Epoch 7 complete | train set loss: 1.6675186157226562, train set accuracy: 0.8049818277359009 | valid set accuracy: 0.8113999962806702\n",
      "Starting epoch number: 8\n"
     ]
    },
    {
     "name": "stderr",
     "output_type": "stream",
     "text": [
      "100%|██████████| 429/429 [00:13<00:00, 32.89it/s]\n",
      "  0%|          | 0/429 [00:00<?, ?it/s]"
     ]
    },
    {
     "name": "stdout",
     "output_type": "stream",
     "text": [
      "Epoch 8 complete | train set loss: 1.6918971538543701, train set accuracy: 0.8036545515060425 | valid set accuracy: 0.8041999936103821\n",
      "Starting epoch number: 9\n"
     ]
    },
    {
     "name": "stderr",
     "output_type": "stream",
     "text": [
      "100%|██████████| 429/429 [00:09<00:00, 46.18it/s]\n",
      "  1%|          | 3/429 [00:00<00:18, 23.00it/s]"
     ]
    },
    {
     "name": "stdout",
     "output_type": "stream",
     "text": [
      "Epoch 9 complete | train set loss: 1.6508830785751343, train set accuracy: 0.8115636110305786 | valid set accuracy: 0.8167999982833862\n",
      "Starting epoch number: 10\n"
     ]
    },
    {
     "name": "stderr",
     "output_type": "stream",
     "text": [
      "100%|██████████| 429/429 [00:07<00:00, 58.45it/s]\n"
     ]
    },
    {
     "name": "stdout",
     "output_type": "stream",
     "text": [
      "Epoch 10 complete | train set loss: 1.6601086854934692, train set accuracy: 0.8113272786140442 | valid set accuracy: 0.817799985408783\n"
     ]
    }
   ],
   "source": [
    "history = sgd(m, loss, x_train, y_train, 128, 10, 0.1)"
   ]
  },
  {
   "cell_type": "code",
   "execution_count": 57,
   "metadata": {},
   "outputs": [
    {
     "data": {
      "text/plain": [
       "<matplotlib.legend.Legend at 0x7fe444456ac0>"
      ]
     },
     "execution_count": 57,
     "metadata": {},
     "output_type": "execute_result"
    },
    {
     "data": {
      "image/png": "[encoded data removed]",
      "text/plain": [
       "<Figure size 432x288 with 1 Axes>"
      ]
     },
     "metadata": {
      "needs_background": "light"
     },
     "output_type": "display_data"
    }
   ],
   "source": [
    "plt.plot(history['accuracy_train'], label='accuracy_train')\n",
    "plt.plot(history['accuracy_valid'], label='accuracy_valid')\n",
    "plt.legend()\n"
   ]
  }
 ],
 "metadata": {
  "kernelspec": {
   "display_name": "Python 3",
   "language": "python",
   "name": "python3"
  },
  "language_info": {
   "codemirror_mode": {
    "name": "ipython",
    "version": 3
   },
   "file_extension": ".py",
   "mimetype": "text/x-python",
   "name": "python",
   "nbconvert_exporter": "python",
   "pygments_lexer": "ipython3",
   "version": "3.8.5"
  }
 },
 "nbformat": 4,
 "nbformat_minor": 4
}

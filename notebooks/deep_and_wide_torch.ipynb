{
 "metadata": {
  "language_info": {
   "codemirror_mode": {
    "name": "ipython",
    "version": 3
   },
   "file_extension": ".py",
   "mimetype": "text/x-python",
   "name": "python",
   "nbconvert_exporter": "python",
   "pygments_lexer": "ipython3",
   "version": "3.8.5-final"
  },
  "orig_nbformat": 2,
  "kernelspec": {
   "name": "python3",
   "display_name": "Python 3"
  }
 },
 "nbformat": 4,
 "nbformat_minor": 2,
 "cells": [
  {
   "source": [
    "# Deep and wide model using torch\n",
    "---"
   ],
   "cell_type": "markdown",
   "metadata": {}
  },
  {
   "cell_type": "code",
   "execution_count": 2,
   "metadata": {},
   "outputs": [],
   "source": [
    "import torch\n",
    "import numpy as np\n",
    "from tqdm import tqdm\n",
    "from sklearn.datasets import fetch_california_housing\n",
    "from sklearn.model_selection import train_test_split\n",
    "from sklearn.preprocessing import StandardScaler"
   ]
  },
  {
   "source": [
    "## Load california housing data"
   ],
   "cell_type": "markdown",
   "metadata": {}
  },
  {
   "source": [
    "housing = fetch_california_housing()\n",
    "x_train_full, x_test, y_train_full, y_test = train_test_split(housing.data, housing.target)\n",
    "x_train, x_valid, y_train, y_valid = train_test_split(x_train_full, y_train_full)\n",
    "\n",
    "y_train, y_valid = torch.as_tensor(y_train, dtype=torch.float), torch.as_tensor(y_valid, dtype=torch.float)\n",
    "\n",
    "scaler = StandardScaler()\n",
    "x_train = torch.as_tensor(scaler.fit(x_train).transform(x_train), dtype=torch.float)\n",
    "x_valid, x_test = torch.as_tensor(scaler.transform(x_valid), dtype=torch.float), torch.as_tensor(scaler.transform(x_test), dtype=torch.float)"
   ],
   "cell_type": "code",
   "metadata": {},
   "execution_count": 3,
   "outputs": []
  },
  {
   "source": [
    "## Model Structure \n",
    "---\n",
    "The model structure to be built is:\n",
    "\n",
    " - Takes as input 11 dimensional feature vector\n",
    " - Splits input into first 5 elements (input_1) and last 6 elements (input_2)\n",
    " - input_1 passes through a Dense layer with 30 neurons and relu activation, and then passes through a second Dense layer with the same setup.\n",
    " - input_2 is then concatenated onto the output of second hidden layer, giving a 36 dimensional vector\n",
    " - the concatenated vector is passed through a final dense layer which is the output\n",
    "\n",
    " *How to do it:* Very similar to `tf.keras` implementation - just subclass on `torch.nn.Module`, then specify the network architecture in the `.forward()` method\n"
   ],
   "cell_type": "markdown",
   "metadata": {}
  },
  {
   "cell_type": "code",
   "execution_count": 4,
   "metadata": {},
   "outputs": [],
   "source": [
    "# class defining the network architecture\n",
    "class DeepWideNet(torch.nn.Module):\n",
    "    \n",
    "    def __init__(self, units=30, activation=torch.nn.ReLU(), **kwargs):\n",
    "        super().__init__(**kwargs)\n",
    "        self.lin1 = torch.nn.Linear(5, 30)\n",
    "        self.lin2 = torch.nn.Linear(30, 30)\n",
    "        self.activation = activation\n",
    "        self.out = torch.nn.Linear(36, 1)\n",
    "    \n",
    "    def forward(self, inputs):\n",
    "        # the net architecture is specified in the forward method\n",
    "        # autograd will take care of backwards\n",
    "        input_1, input_2 = inputs[0], inputs[1]\n",
    "        input_1 = self.activation(self.lin1(input_1))   # first hidden layer\n",
    "        input_1 = self.activation(self.lin2(input_1))   # second hidden layer\n",
    "        input_cat = torch.cat((input_1, input_2), dim=1)\n",
    "        return self.out(input_cat)\n",
    "\n",
    "# define the loss function\n",
    "loss = torch.nn.functional.mse_loss\n",
    "\n",
    "# helper function to initiaise model and optimiser\n",
    "def get_model():\n",
    "    model = DeepWideNet()\n",
    "    return model, torch.optim.SGD(model.parameters(), lr=0.1)\n",
    "\n",
    "# helper function to generate batches\n",
    "# NB: torch has a module for this, but doing directly for clarity\n",
    "def data_generator(x, y, batch_size):\n",
    "    # shuffle data\n",
    "    idx = np.random.choice(range(x.shape[0]), replace=False)\n",
    "    x_, y_ = x[idx], y[idx]\n",
    "    num_batches = int(x.shape[0] / batch_size)\n",
    "    # yield batches\n",
    "    for k in range(num_batches):\n",
    "        start, end = k * batch_size, (k + 1) * batch_size\n",
    "        yield (x[start:end][:,:5], x[start:end][:,-6:]), y[start:end]\n",
    "\n",
    "# define the training loop\n",
    "def train_loop(model, optimiser, x, y, batch_size, epochs):\n",
    "    # initialise array to store loss history\n",
    "    history = []\n",
    "    for epoch in range(epochs):\n",
    "        dg = data_generator(x, y, batch_size)\n",
    "        num_batches = int(x.shape[0] / batch_size)\n",
    "        for k in tqdm(range(num_batches)):\n",
    "            (x_1, x_2), y_ = next(dg)\n",
    "            y_hat = model((x_1, x_2))\n",
    "            l = loss(y_, y_hat)\n",
    "            optimiser.zero_grad()\n",
    "            l.backward()\n",
    "            optimiser.step()\n",
    "            history.append(l.data.numpy)\n"
   ]
  },
  {
   "cell_type": "code",
   "execution_count": 5,
   "metadata": {},
   "outputs": [
    {
     "output_type": "stream",
     "name": "stderr",
     "text": [
      "100%|██████████| 362/362 [00:01<00:00, 263.15it/s]\n",
      "100%|██████████| 362/362 [00:00<00:00, 363.02it/s]\n",
      "100%|██████████| 362/362 [00:01<00:00, 204.12it/s]\n",
      "100%|██████████| 362/362 [00:01<00:00, 198.16it/s]\n",
      "100%|██████████| 362/362 [00:01<00:00, 302.53it/s]\n",
      "100%|██████████| 362/362 [00:01<00:00, 309.72it/s]\n",
      "100%|██████████| 362/362 [00:01<00:00, 331.33it/s]\n",
      "100%|██████████| 362/362 [00:01<00:00, 318.77it/s]\n",
      "100%|██████████| 362/362 [00:01<00:00, 326.85it/s]\n",
      "100%|██████████| 362/362 [00:01<00:00, 295.80it/s]\n"
     ]
    }
   ],
   "source": [
    "mod, opt = get_model()\n",
    "\n",
    "train_loop(mod, opt, x_train, y_train, 32, 10)"
   ]
  }
 ]
}